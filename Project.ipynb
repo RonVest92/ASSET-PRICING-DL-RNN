{
  "cells": [
    {
      "cell_type": "markdown",
      "metadata": {
        "id": "view-in-github",
        "colab_type": "text"
      },
      "source": [
        "<a href=\"https://colab.research.google.com/github/RonVest92/ASSET-PRICING-DL-RNN/blob/main/Project.ipynb\" target=\"_parent\"><img src=\"https://colab.research.google.com/assets/colab-badge.svg\" alt=\"Open In Colab\"/></a>"
      ]
    },
    {
      "cell_type": "markdown",
      "id": "ace49f12",
      "metadata": {
        "id": "ace49f12"
      },
      "source": [
        "# SPORTSLITE"
      ]
    },
    {
      "cell_type": "markdown",
      "id": "cf799576",
      "metadata": {
        "id": "cf799576"
      },
      "source": [
        "## Cynthia Ibeawuchi, Ronald Ddibya, Pratik Maitra"
      ]
    },
    {
      "cell_type": "markdown",
      "id": "125ac010",
      "metadata": {
        "id": "125ac010"
      },
      "source": [
        "## Prediction of Soccer Matches using Machine Learning"
      ]
    },
    {
      "cell_type": "code",
      "execution_count": null,
      "id": "a47a2f9e",
      "metadata": {
        "id": "a47a2f9e",
        "outputId": "246e8618-3cb0-4996-840b-4ad260d6deb6",
        "colab": {
          "referenced_widgets": [
            "afc7867449d3443e9a00665edd21593c"
          ]
        }
      },
      "outputs": [
        {
          "data": {
            "application/vnd.jupyter.widget-view+json": {
              "model_id": "afc7867449d3443e9a00665edd21593c",
              "version_major": 2,
              "version_minor": 0
            },
            "text/plain": [
              "Image(value=b'RIFFl\\xf5\\x04\\x00WEBPVP8 `\\xf5\\x04\\x0001\\x10\\x9d\\x01*\\x08\\x07\\xb0\\x04>m0\\x93G&#\\xa2\\xa1\\xa9...',…"
            ]
          },
          "execution_count": 1,
          "metadata": {},
          "output_type": "execute_result"
        }
      ],
      "source": [
        "from ipywidgets import Image # Let us start off with a soccer image using ipywidgets\n",
        "Image(value=open(\"soccer.png\", 'rb').read(),width=\"600\")"
      ]
    },
    {
      "cell_type": "markdown",
      "id": "8501f332",
      "metadata": {
        "id": "8501f332"
      },
      "source": [
        "## Introduction"
      ]
    },
    {
      "cell_type": "markdown",
      "id": "6ea5cbf2",
      "metadata": {
        "id": "6ea5cbf2"
      },
      "source": [
        "Football, also known as soccer is a game that needs no introduction. Often dubbed the beautiful game, it has lately been a subject of various machine learning researchers who want to crunch the numbers and predict the outcomes of the soccer matches. Inspired by them we too make an effort to observe how ML models are at soccer outcome predictions."
      ]
    },
    {
      "cell_type": "markdown",
      "id": "3ed31041",
      "metadata": {
        "id": "3ed31041"
      },
      "source": [
        "## Goals"
      ]
    },
    {
      "cell_type": "markdown",
      "id": "96cc32c0",
      "metadata": {
        "id": "96cc32c0"
      },
      "source": [
        "We list out some of our goals and objectives for this project.\n",
        "- Predict soccer match outcomes by treating it as a classification problem and then implement a select few ML classifiers.\n",
        "- Observe how certain features like home/away status , crowd attendance and other factors affect the accuracy of the models.\n",
        "- Vary the training and testing data sets and see the variations in the outcome."
      ]
    },
    {
      "cell_type": "markdown",
      "id": "8a5d2620",
      "metadata": {
        "id": "8a5d2620"
      },
      "source": [
        "## Data and pre-processing"
      ]
    },
    {
      "cell_type": "markdown",
      "id": "3a333a0f",
      "metadata": {
        "id": "3a333a0f"
      },
      "source": [
        "We downloaded the data from football statistics sites like https://fbref.com/en/ and www.football-data.co.uk. We make use of the downloaded CSV files and pre-process the data. We use the 2021-2022 English Premeir League dataset which is a complete dataset of 380 matches."
      ]
    },
    {
      "cell_type": "code",
      "execution_count": null,
      "id": "c0474b15",
      "metadata": {
        "id": "c0474b15"
      },
      "outputs": [],
      "source": [
        "import pandas as pd"
      ]
    },
    {
      "cell_type": "code",
      "execution_count": null,
      "id": "a0348a0d",
      "metadata": {
        "id": "a0348a0d"
      },
      "outputs": [],
      "source": [
        "df = pd.read_csv(\"data.csv\", index_col=0) # Data for EPL 2021-2022"
      ]
    },
    {
      "cell_type": "code",
      "execution_count": null,
      "id": "df645696",
      "metadata": {
        "id": "df645696",
        "outputId": "2717599b-749d-4537-dd10-5e8ab978d7d5"
      },
      "outputs": [
        {
          "data": {
            "text/html": [
              "<div>\n",
              "<style scoped>\n",
              "    .dataframe tbody tr th:only-of-type {\n",
              "        vertical-align: middle;\n",
              "    }\n",
              "\n",
              "    .dataframe tbody tr th {\n",
              "        vertical-align: top;\n",
              "    }\n",
              "\n",
              "    .dataframe thead th {\n",
              "        text-align: right;\n",
              "    }\n",
              "</style>\n",
              "<table border=\"1\" class=\"dataframe\">\n",
              "  <thead>\n",
              "    <tr style=\"text-align: right;\">\n",
              "      <th></th>\n",
              "      <th>Time</th>\n",
              "      <th>HT_rank</th>\n",
              "      <th>HomeTeam</th>\n",
              "      <th>AT_rank</th>\n",
              "      <th>AwayTeam</th>\n",
              "      <th>Rank_diff</th>\n",
              "      <th>Rank_bin</th>\n",
              "      <th>Home_venue</th>\n",
              "      <th>Day</th>\n",
              "      <th>Day_bin</th>\n",
              "      <th>...</th>\n",
              "      <th>HST</th>\n",
              "      <th>AST</th>\n",
              "      <th>HF</th>\n",
              "      <th>AF</th>\n",
              "      <th>HC</th>\n",
              "      <th>AC</th>\n",
              "      <th>HY</th>\n",
              "      <th>AY</th>\n",
              "      <th>HR</th>\n",
              "      <th>AR</th>\n",
              "    </tr>\n",
              "    <tr>\n",
              "      <th>Date</th>\n",
              "      <th></th>\n",
              "      <th></th>\n",
              "      <th></th>\n",
              "      <th></th>\n",
              "      <th></th>\n",
              "      <th></th>\n",
              "      <th></th>\n",
              "      <th></th>\n",
              "      <th></th>\n",
              "      <th></th>\n",
              "      <th></th>\n",
              "      <th></th>\n",
              "      <th></th>\n",
              "      <th></th>\n",
              "      <th></th>\n",
              "      <th></th>\n",
              "      <th></th>\n",
              "      <th></th>\n",
              "      <th></th>\n",
              "      <th></th>\n",
              "      <th></th>\n",
              "    </tr>\n",
              "  </thead>\n",
              "  <tbody>\n",
              "    <tr>\n",
              "      <th>22/10/2021</th>\n",
              "      <td>08:00:00 PM</td>\n",
              "      <td>8</td>\n",
              "      <td>Arsenal</td>\n",
              "      <td>11</td>\n",
              "      <td>Aston Villa</td>\n",
              "      <td>3</td>\n",
              "      <td>1</td>\n",
              "      <td>1</td>\n",
              "      <td>Fri</td>\n",
              "      <td>0</td>\n",
              "      <td>...</td>\n",
              "      <td>9</td>\n",
              "      <td>4</td>\n",
              "      <td>17</td>\n",
              "      <td>10</td>\n",
              "      <td>7</td>\n",
              "      <td>4</td>\n",
              "      <td>2</td>\n",
              "      <td>5</td>\n",
              "      <td>0</td>\n",
              "      <td>0</td>\n",
              "    </tr>\n",
              "    <tr>\n",
              "      <th>19/02/2022</th>\n",
              "      <td>03:00:00 PM</td>\n",
              "      <td>8</td>\n",
              "      <td>Arsenal</td>\n",
              "      <td>20</td>\n",
              "      <td>Brentford</td>\n",
              "      <td>12</td>\n",
              "      <td>1</td>\n",
              "      <td>1</td>\n",
              "      <td>Sat</td>\n",
              "      <td>0</td>\n",
              "      <td>...</td>\n",
              "      <td>8</td>\n",
              "      <td>2</td>\n",
              "      <td>10</td>\n",
              "      <td>5</td>\n",
              "      <td>14</td>\n",
              "      <td>0</td>\n",
              "      <td>1</td>\n",
              "      <td>1</td>\n",
              "      <td>0</td>\n",
              "      <td>0</td>\n",
              "    </tr>\n",
              "    <tr>\n",
              "      <th>09/04/22</th>\n",
              "      <td>03:00:00 PM</td>\n",
              "      <td>8</td>\n",
              "      <td>Arsenal</td>\n",
              "      <td>16</td>\n",
              "      <td>Brighton</td>\n",
              "      <td>8</td>\n",
              "      <td>1</td>\n",
              "      <td>1</td>\n",
              "      <td>Sat</td>\n",
              "      <td>0</td>\n",
              "      <td>...</td>\n",
              "      <td>4</td>\n",
              "      <td>3</td>\n",
              "      <td>12</td>\n",
              "      <td>19</td>\n",
              "      <td>11</td>\n",
              "      <td>2</td>\n",
              "      <td>3</td>\n",
              "      <td>4</td>\n",
              "      <td>0</td>\n",
              "      <td>0</td>\n",
              "    </tr>\n",
              "    <tr>\n",
              "      <th>23/01/2022</th>\n",
              "      <td>02:00:00 PM</td>\n",
              "      <td>8</td>\n",
              "      <td>Arsenal</td>\n",
              "      <td>17</td>\n",
              "      <td>Burnley</td>\n",
              "      <td>9</td>\n",
              "      <td>1</td>\n",
              "      <td>1</td>\n",
              "      <td>Sun</td>\n",
              "      <td>1</td>\n",
              "      <td>...</td>\n",
              "      <td>5</td>\n",
              "      <td>1</td>\n",
              "      <td>9</td>\n",
              "      <td>13</td>\n",
              "      <td>12</td>\n",
              "      <td>4</td>\n",
              "      <td>0</td>\n",
              "      <td>2</td>\n",
              "      <td>0</td>\n",
              "      <td>0</td>\n",
              "    </tr>\n",
              "    <tr>\n",
              "      <th>22/08/2021</th>\n",
              "      <td>04:30:00 PM</td>\n",
              "      <td>8</td>\n",
              "      <td>Arsenal</td>\n",
              "      <td>4</td>\n",
              "      <td>Chelsea</td>\n",
              "      <td>-4</td>\n",
              "      <td>0</td>\n",
              "      <td>1</td>\n",
              "      <td>Sun</td>\n",
              "      <td>1</td>\n",
              "      <td>...</td>\n",
              "      <td>3</td>\n",
              "      <td>5</td>\n",
              "      <td>10</td>\n",
              "      <td>4</td>\n",
              "      <td>9</td>\n",
              "      <td>8</td>\n",
              "      <td>3</td>\n",
              "      <td>0</td>\n",
              "      <td>0</td>\n",
              "      <td>0</td>\n",
              "    </tr>\n",
              "  </tbody>\n",
              "</table>\n",
              "<p>5 rows × 33 columns</p>\n",
              "</div>"
            ],
            "text/plain": [
              "                   Time  HT_rank HomeTeam  AT_rank     AwayTeam  Rank_diff  \\\n",
              "Date                                                                         \n",
              "22/10/2021  08:00:00 PM        8  Arsenal       11  Aston Villa          3   \n",
              "19/02/2022  03:00:00 PM        8  Arsenal       20    Brentford         12   \n",
              "09/04/22    03:00:00 PM        8  Arsenal       16     Brighton          8   \n",
              "23/01/2022  02:00:00 PM        8  Arsenal       17      Burnley          9   \n",
              "22/08/2021  04:30:00 PM        8  Arsenal        4      Chelsea         -4   \n",
              "\n",
              "            Rank_bin  Home_venue  Day  Day_bin  ...  HST  AST  HF  AF  HC  AC  \\\n",
              "Date                                            ...                             \n",
              "22/10/2021         1           1  Fri        0  ...    9    4  17  10   7   4   \n",
              "19/02/2022         1           1  Sat        0  ...    8    2  10   5  14   0   \n",
              "09/04/22           1           1  Sat        0  ...    4    3  12  19  11   2   \n",
              "23/01/2022         1           1  Sun        1  ...    5    1   9  13  12   4   \n",
              "22/08/2021         0           1  Sun        1  ...    3    5  10   4   9   8   \n",
              "\n",
              "           HY  AY  HR AR  \n",
              "Date                      \n",
              "22/10/2021  2   5   0  0  \n",
              "19/02/2022  1   1   0  0  \n",
              "09/04/22    3   4   0  0  \n",
              "23/01/2022  0   2   0  0  \n",
              "22/08/2021  3   0   0  0  \n",
              "\n",
              "[5 rows x 33 columns]"
            ]
          },
          "execution_count": 4,
          "metadata": {},
          "output_type": "execute_result"
        }
      ],
      "source": [
        "df.head()     # Each row is a single match"
      ]
    },
    {
      "cell_type": "code",
      "execution_count": null,
      "id": "8bd8d473",
      "metadata": {
        "id": "8bd8d473",
        "outputId": "37f29fc3-e0ef-4b0b-8567-e68f1c3aa69f"
      },
      "outputs": [
        {
          "data": {
            "text/html": [
              "<div>\n",
              "<style scoped>\n",
              "    .dataframe tbody tr th:only-of-type {\n",
              "        vertical-align: middle;\n",
              "    }\n",
              "\n",
              "    .dataframe tbody tr th {\n",
              "        vertical-align: top;\n",
              "    }\n",
              "\n",
              "    .dataframe thead th {\n",
              "        text-align: right;\n",
              "    }\n",
              "</style>\n",
              "<table border=\"1\" class=\"dataframe\">\n",
              "  <thead>\n",
              "    <tr style=\"text-align: right;\">\n",
              "      <th></th>\n",
              "      <th>Time</th>\n",
              "      <th>HT_rank</th>\n",
              "      <th>HomeTeam</th>\n",
              "      <th>AT_rank</th>\n",
              "      <th>AwayTeam</th>\n",
              "      <th>Rank_diff</th>\n",
              "      <th>Rank_bin</th>\n",
              "      <th>Home_venue</th>\n",
              "      <th>Day</th>\n",
              "      <th>Day_bin</th>\n",
              "      <th>...</th>\n",
              "      <th>HST</th>\n",
              "      <th>AST</th>\n",
              "      <th>HF</th>\n",
              "      <th>AF</th>\n",
              "      <th>HC</th>\n",
              "      <th>AC</th>\n",
              "      <th>HY</th>\n",
              "      <th>AY</th>\n",
              "      <th>HR</th>\n",
              "      <th>AR</th>\n",
              "    </tr>\n",
              "    <tr>\n",
              "      <th>Date</th>\n",
              "      <th></th>\n",
              "      <th></th>\n",
              "      <th></th>\n",
              "      <th></th>\n",
              "      <th></th>\n",
              "      <th></th>\n",
              "      <th></th>\n",
              "      <th></th>\n",
              "      <th></th>\n",
              "      <th></th>\n",
              "      <th></th>\n",
              "      <th></th>\n",
              "      <th></th>\n",
              "      <th></th>\n",
              "      <th></th>\n",
              "      <th></th>\n",
              "      <th></th>\n",
              "      <th></th>\n",
              "      <th></th>\n",
              "      <th></th>\n",
              "      <th></th>\n",
              "    </tr>\n",
              "  </thead>\n",
              "  <tbody>\n",
              "    <tr>\n",
              "      <th>15/05/2022</th>\n",
              "      <td>02:00:00 PM</td>\n",
              "      <td>13</td>\n",
              "      <td>Wolves</td>\n",
              "      <td>18</td>\n",
              "      <td>Norwich</td>\n",
              "      <td>5</td>\n",
              "      <td>1</td>\n",
              "      <td>1</td>\n",
              "      <td>Sun</td>\n",
              "      <td>1</td>\n",
              "      <td>...</td>\n",
              "      <td>4</td>\n",
              "      <td>2</td>\n",
              "      <td>5</td>\n",
              "      <td>10</td>\n",
              "      <td>5</td>\n",
              "      <td>3</td>\n",
              "      <td>0</td>\n",
              "      <td>3</td>\n",
              "      <td>0</td>\n",
              "      <td>0</td>\n",
              "    </tr>\n",
              "    <tr>\n",
              "      <th>15/01/2022</th>\n",
              "      <td>03:00:00 PM</td>\n",
              "      <td>13</td>\n",
              "      <td>Wolves</td>\n",
              "      <td>15</td>\n",
              "      <td>Southampton</td>\n",
              "      <td>2</td>\n",
              "      <td>1</td>\n",
              "      <td>1</td>\n",
              "      <td>Sat</td>\n",
              "      <td>0</td>\n",
              "      <td>...</td>\n",
              "      <td>5</td>\n",
              "      <td>10</td>\n",
              "      <td>13</td>\n",
              "      <td>14</td>\n",
              "      <td>2</td>\n",
              "      <td>10</td>\n",
              "      <td>2</td>\n",
              "      <td>3</td>\n",
              "      <td>0</td>\n",
              "      <td>0</td>\n",
              "    </tr>\n",
              "    <tr>\n",
              "      <th>22/08/2021</th>\n",
              "      <td>02:00:00 PM</td>\n",
              "      <td>13</td>\n",
              "      <td>Wolves</td>\n",
              "      <td>7</td>\n",
              "      <td>Tottenham</td>\n",
              "      <td>-6</td>\n",
              "      <td>0</td>\n",
              "      <td>1</td>\n",
              "      <td>Sun</td>\n",
              "      <td>1</td>\n",
              "      <td>...</td>\n",
              "      <td>6</td>\n",
              "      <td>6</td>\n",
              "      <td>9</td>\n",
              "      <td>7</td>\n",
              "      <td>5</td>\n",
              "      <td>4</td>\n",
              "      <td>1</td>\n",
              "      <td>4</td>\n",
              "      <td>0</td>\n",
              "      <td>0</td>\n",
              "    </tr>\n",
              "    <tr>\n",
              "      <th>10/03/22</th>\n",
              "      <td>07:30:00 PM</td>\n",
              "      <td>13</td>\n",
              "      <td>Wolves</td>\n",
              "      <td>19</td>\n",
              "      <td>Watford</td>\n",
              "      <td>6</td>\n",
              "      <td>1</td>\n",
              "      <td>1</td>\n",
              "      <td>Thu</td>\n",
              "      <td>0</td>\n",
              "      <td>...</td>\n",
              "      <td>5</td>\n",
              "      <td>0</td>\n",
              "      <td>11</td>\n",
              "      <td>10</td>\n",
              "      <td>5</td>\n",
              "      <td>2</td>\n",
              "      <td>2</td>\n",
              "      <td>2</td>\n",
              "      <td>0</td>\n",
              "      <td>0</td>\n",
              "    </tr>\n",
              "    <tr>\n",
              "      <th>20/11/2021</th>\n",
              "      <td>03:00:00 PM</td>\n",
              "      <td>13</td>\n",
              "      <td>Wolves</td>\n",
              "      <td>6</td>\n",
              "      <td>West Ham</td>\n",
              "      <td>-7</td>\n",
              "      <td>0</td>\n",
              "      <td>1</td>\n",
              "      <td>Sat</td>\n",
              "      <td>0</td>\n",
              "      <td>...</td>\n",
              "      <td>5</td>\n",
              "      <td>3</td>\n",
              "      <td>6</td>\n",
              "      <td>9</td>\n",
              "      <td>7</td>\n",
              "      <td>3</td>\n",
              "      <td>1</td>\n",
              "      <td>1</td>\n",
              "      <td>0</td>\n",
              "      <td>0</td>\n",
              "    </tr>\n",
              "  </tbody>\n",
              "</table>\n",
              "<p>5 rows × 33 columns</p>\n",
              "</div>"
            ],
            "text/plain": [
              "                   Time  HT_rank HomeTeam  AT_rank     AwayTeam  Rank_diff  \\\n",
              "Date                                                                         \n",
              "15/05/2022  02:00:00 PM       13   Wolves       18      Norwich          5   \n",
              "15/01/2022  03:00:00 PM       13   Wolves       15  Southampton          2   \n",
              "22/08/2021  02:00:00 PM       13   Wolves        7    Tottenham         -6   \n",
              "10/03/22    07:30:00 PM       13   Wolves       19      Watford          6   \n",
              "20/11/2021  03:00:00 PM       13   Wolves        6     West Ham         -7   \n",
              "\n",
              "            Rank_bin  Home_venue  Day  Day_bin  ...  HST  AST  HF  AF  HC  AC  \\\n",
              "Date                                            ...                             \n",
              "15/05/2022         1           1  Sun        1  ...    4    2   5  10   5   3   \n",
              "15/01/2022         1           1  Sat        0  ...    5   10  13  14   2  10   \n",
              "22/08/2021         0           1  Sun        1  ...    6    6   9   7   5   4   \n",
              "10/03/22           1           1  Thu        0  ...    5    0  11  10   5   2   \n",
              "20/11/2021         0           1  Sat        0  ...    5    3   6   9   7   3   \n",
              "\n",
              "           HY  AY  HR AR  \n",
              "Date                      \n",
              "15/05/2022  0   3   0  0  \n",
              "15/01/2022  2   3   0  0  \n",
              "22/08/2021  1   4   0  0  \n",
              "10/03/22    2   2   0  0  \n",
              "20/11/2021  1   1   0  0  \n",
              "\n",
              "[5 rows x 33 columns]"
            ]
          },
          "execution_count": 5,
          "metadata": {},
          "output_type": "execute_result"
        }
      ],
      "source": [
        "df.tail()"
      ]
    },
    {
      "cell_type": "code",
      "execution_count": null,
      "id": "708d4eab",
      "metadata": {
        "scrolled": true,
        "id": "708d4eab",
        "outputId": "936d45b7-8778-40ae-eea6-9b570430e0c7"
      },
      "outputs": [
        {
          "name": "stdout",
          "output_type": "stream",
          "text": [
            "<class 'pandas.core.frame.DataFrame'>\n",
            "Index: 380 entries, 22/10/2021 to 20/11/2021\n",
            "Data columns (total 33 columns):\n",
            " #   Column      Non-Null Count  Dtype \n",
            "---  ------      --------------  ----- \n",
            " 0   Time        380 non-null    object\n",
            " 1   HT_rank     380 non-null    int64 \n",
            " 2   HomeTeam    380 non-null    object\n",
            " 3   AT_rank     380 non-null    int64 \n",
            " 4   AwayTeam    380 non-null    object\n",
            " 5   Rank_diff   380 non-null    int64 \n",
            " 6   Rank_bin    380 non-null    int64 \n",
            " 7   Home_venue  380 non-null    int64 \n",
            " 8   Day         380 non-null    object\n",
            " 9   Day_bin     380 non-null    int64 \n",
            " 10  Attendance  380 non-null    int64 \n",
            " 11  Attnd_bin   380 non-null    int64 \n",
            " 12  Result_bin  380 non-null    int64 \n",
            " 13  Score       380 non-null    object\n",
            " 14  FTHG        380 non-null    int64 \n",
            " 15  FTAG        380 non-null    int64 \n",
            " 16  FTR         380 non-null    object\n",
            " 17  HTHG        380 non-null    int64 \n",
            " 18  HTAG        380 non-null    int64 \n",
            " 19  HTR         380 non-null    object\n",
            " 20  Referee     380 non-null    object\n",
            " 21  HS          380 non-null    int64 \n",
            " 22  AS          380 non-null    int64 \n",
            " 23  HST         380 non-null    int64 \n",
            " 24  AST         380 non-null    int64 \n",
            " 25  HF          380 non-null    int64 \n",
            " 26  AF          380 non-null    int64 \n",
            " 27  HC          380 non-null    int64 \n",
            " 28  AC          380 non-null    int64 \n",
            " 29  HY          380 non-null    int64 \n",
            " 30  AY          380 non-null    int64 \n",
            " 31  HR          380 non-null    int64 \n",
            " 32  AR          380 non-null    int64 \n",
            "dtypes: int64(25), object(8)\n",
            "memory usage: 100.9+ KB\n"
          ]
        }
      ],
      "source": [
        "df.info()"
      ]
    },
    {
      "cell_type": "code",
      "execution_count": null,
      "id": "8ff291f0",
      "metadata": {
        "id": "8ff291f0",
        "outputId": "b4b18d70-b914-4078-de99-573a525ec7db"
      },
      "outputs": [
        {
          "data": {
            "text/plain": [
              "(380, 33)"
            ]
          },
          "execution_count": 7,
          "metadata": {},
          "output_type": "execute_result"
        }
      ],
      "source": [
        "df.shape       # we have 380 matches (20 teams and each team playing against the other)"
      ]
    },
    {
      "cell_type": "code",
      "execution_count": null,
      "id": "4df95d89",
      "metadata": {
        "scrolled": true,
        "id": "4df95d89",
        "outputId": "412073b2-8a24-442b-ba49-58d3cd9f0a95"
      },
      "outputs": [
        {
          "data": {
            "text/plain": [
              "Date\n",
              "22/10/2021    False\n",
              "19/02/2022    False\n",
              "09/04/22      False\n",
              "23/01/2022    False\n",
              "22/08/2021    False\n",
              "              ...  \n",
              "15/05/2022    False\n",
              "15/01/2022    False\n",
              "22/08/2021    False\n",
              "10/03/22      False\n",
              "20/11/2021    False\n",
              "Length: 380, dtype: bool"
            ]
          },
          "execution_count": 8,
          "metadata": {},
          "output_type": "execute_result"
        }
      ],
      "source": [
        "df.isnull().any(axis=1)                                     # quick check for null values"
      ]
    },
    {
      "cell_type": "markdown",
      "id": "c187efa2",
      "metadata": {
        "id": "c187efa2"
      },
      "source": [
        "How many matches do we have for each team in our data. Our goal is to real first understand the data set we have"
      ]
    },
    {
      "cell_type": "code",
      "execution_count": null,
      "id": "4f87a776",
      "metadata": {
        "id": "4f87a776",
        "outputId": "987c5f46-a24e-4d63-eea5-2b029cff2f0b"
      },
      "outputs": [
        {
          "data": {
            "text/plain": [
              "Brentford         19\n",
              "Man United        19\n",
              "Liverpool         19\n",
              "West Ham          19\n",
              "Crystal Palace    19\n",
              "Southampton       19\n",
              "Norwich           19\n",
              "Tottenham         19\n",
              "Watford           19\n",
              "Aston Villa       19\n",
              "Arsenal           19\n",
              "Wolves            19\n",
              "Chelsea           19\n",
              "Brighton          19\n",
              "Leeds             19\n",
              "Burnley           19\n",
              "Newcastle         19\n",
              "Man City          19\n",
              "Everton           19\n",
              "Leicester         19\n",
              "Name: HomeTeam, dtype: int64"
            ]
          },
          "execution_count": 9,
          "metadata": {},
          "output_type": "execute_result"
        }
      ],
      "source": [
        "df[\"HomeTeam\"].value_counts()"
      ]
    },
    {
      "cell_type": "code",
      "execution_count": null,
      "id": "93503f14",
      "metadata": {
        "id": "93503f14",
        "outputId": "f8635931-c89d-4b8e-a4e9-7a9d06365461"
      },
      "outputs": [
        {
          "data": {
            "text/html": [
              "<div>\n",
              "<style scoped>\n",
              "    .dataframe tbody tr th:only-of-type {\n",
              "        vertical-align: middle;\n",
              "    }\n",
              "\n",
              "    .dataframe tbody tr th {\n",
              "        vertical-align: top;\n",
              "    }\n",
              "\n",
              "    .dataframe thead th {\n",
              "        text-align: right;\n",
              "    }\n",
              "</style>\n",
              "<table border=\"1\" class=\"dataframe\">\n",
              "  <thead>\n",
              "    <tr style=\"text-align: right;\">\n",
              "      <th></th>\n",
              "      <th>Time</th>\n",
              "      <th>HT_rank</th>\n",
              "      <th>HomeTeam</th>\n",
              "      <th>AT_rank</th>\n",
              "      <th>AwayTeam</th>\n",
              "      <th>Rank_diff</th>\n",
              "      <th>Rank_bin</th>\n",
              "      <th>Home_venue</th>\n",
              "      <th>Day</th>\n",
              "      <th>Day_bin</th>\n",
              "      <th>...</th>\n",
              "      <th>HST</th>\n",
              "      <th>AST</th>\n",
              "      <th>HF</th>\n",
              "      <th>AF</th>\n",
              "      <th>HC</th>\n",
              "      <th>AC</th>\n",
              "      <th>HY</th>\n",
              "      <th>AY</th>\n",
              "      <th>HR</th>\n",
              "      <th>AR</th>\n",
              "    </tr>\n",
              "    <tr>\n",
              "      <th>Date</th>\n",
              "      <th></th>\n",
              "      <th></th>\n",
              "      <th></th>\n",
              "      <th></th>\n",
              "      <th></th>\n",
              "      <th></th>\n",
              "      <th></th>\n",
              "      <th></th>\n",
              "      <th></th>\n",
              "      <th></th>\n",
              "      <th></th>\n",
              "      <th></th>\n",
              "      <th></th>\n",
              "      <th></th>\n",
              "      <th></th>\n",
              "      <th></th>\n",
              "      <th></th>\n",
              "      <th></th>\n",
              "      <th></th>\n",
              "      <th></th>\n",
              "      <th></th>\n",
              "    </tr>\n",
              "  </thead>\n",
              "  <tbody>\n",
              "    <tr>\n",
              "      <th>20/11/2021</th>\n",
              "      <td>05:30:00 PM</td>\n",
              "      <td>3</td>\n",
              "      <td>Liverpool</td>\n",
              "      <td>8</td>\n",
              "      <td>Arsenal</td>\n",
              "      <td>5</td>\n",
              "      <td>1</td>\n",
              "      <td>1</td>\n",
              "      <td>Sat</td>\n",
              "      <td>0</td>\n",
              "      <td>...</td>\n",
              "      <td>9</td>\n",
              "      <td>3</td>\n",
              "      <td>15</td>\n",
              "      <td>12</td>\n",
              "      <td>6</td>\n",
              "      <td>1</td>\n",
              "      <td>2</td>\n",
              "      <td>0</td>\n",
              "      <td>0</td>\n",
              "      <td>0</td>\n",
              "    </tr>\n",
              "    <tr>\n",
              "      <th>11/12/21</th>\n",
              "      <td>03:00:00 PM</td>\n",
              "      <td>3</td>\n",
              "      <td>Liverpool</td>\n",
              "      <td>11</td>\n",
              "      <td>Aston Villa</td>\n",
              "      <td>8</td>\n",
              "      <td>1</td>\n",
              "      <td>1</td>\n",
              "      <td>Sat</td>\n",
              "      <td>0</td>\n",
              "      <td>...</td>\n",
              "      <td>5</td>\n",
              "      <td>0</td>\n",
              "      <td>13</td>\n",
              "      <td>6</td>\n",
              "      <td>11</td>\n",
              "      <td>3</td>\n",
              "      <td>1</td>\n",
              "      <td>2</td>\n",
              "      <td>0</td>\n",
              "      <td>0</td>\n",
              "    </tr>\n",
              "    <tr>\n",
              "      <th>16/01/2022</th>\n",
              "      <td>02:00:00 PM</td>\n",
              "      <td>3</td>\n",
              "      <td>Liverpool</td>\n",
              "      <td>20</td>\n",
              "      <td>Brentford</td>\n",
              "      <td>17</td>\n",
              "      <td>1</td>\n",
              "      <td>1</td>\n",
              "      <td>Sun</td>\n",
              "      <td>1</td>\n",
              "      <td>...</td>\n",
              "      <td>13</td>\n",
              "      <td>1</td>\n",
              "      <td>6</td>\n",
              "      <td>6</td>\n",
              "      <td>9</td>\n",
              "      <td>0</td>\n",
              "      <td>0</td>\n",
              "      <td>1</td>\n",
              "      <td>0</td>\n",
              "      <td>0</td>\n",
              "    </tr>\n",
              "    <tr>\n",
              "      <th>30/10/2021</th>\n",
              "      <td>03:00:00 PM</td>\n",
              "      <td>3</td>\n",
              "      <td>Liverpool</td>\n",
              "      <td>16</td>\n",
              "      <td>Brighton</td>\n",
              "      <td>13</td>\n",
              "      <td>1</td>\n",
              "      <td>1</td>\n",
              "      <td>Sat</td>\n",
              "      <td>0</td>\n",
              "      <td>...</td>\n",
              "      <td>3</td>\n",
              "      <td>6</td>\n",
              "      <td>8</td>\n",
              "      <td>5</td>\n",
              "      <td>5</td>\n",
              "      <td>3</td>\n",
              "      <td>2</td>\n",
              "      <td>2</td>\n",
              "      <td>0</td>\n",
              "      <td>0</td>\n",
              "    </tr>\n",
              "    <tr>\n",
              "      <th>21/08/2021</th>\n",
              "      <td>12:30:00 PM</td>\n",
              "      <td>3</td>\n",
              "      <td>Liverpool</td>\n",
              "      <td>17</td>\n",
              "      <td>Burnley</td>\n",
              "      <td>14</td>\n",
              "      <td>1</td>\n",
              "      <td>1</td>\n",
              "      <td>Sat</td>\n",
              "      <td>0</td>\n",
              "      <td>...</td>\n",
              "      <td>9</td>\n",
              "      <td>3</td>\n",
              "      <td>6</td>\n",
              "      <td>12</td>\n",
              "      <td>8</td>\n",
              "      <td>4</td>\n",
              "      <td>0</td>\n",
              "      <td>0</td>\n",
              "      <td>0</td>\n",
              "      <td>0</td>\n",
              "    </tr>\n",
              "    <tr>\n",
              "      <th>28/08/2021</th>\n",
              "      <td>05:30:00 PM</td>\n",
              "      <td>3</td>\n",
              "      <td>Liverpool</td>\n",
              "      <td>4</td>\n",
              "      <td>Chelsea</td>\n",
              "      <td>1</td>\n",
              "      <td>1</td>\n",
              "      <td>1</td>\n",
              "      <td>Sat</td>\n",
              "      <td>0</td>\n",
              "      <td>...</td>\n",
              "      <td>7</td>\n",
              "      <td>3</td>\n",
              "      <td>13</td>\n",
              "      <td>4</td>\n",
              "      <td>12</td>\n",
              "      <td>3</td>\n",
              "      <td>0</td>\n",
              "      <td>2</td>\n",
              "      <td>0</td>\n",
              "      <td>1</td>\n",
              "    </tr>\n",
              "    <tr>\n",
              "      <th>18/09/2021</th>\n",
              "      <td>03:00:00 PM</td>\n",
              "      <td>3</td>\n",
              "      <td>Liverpool</td>\n",
              "      <td>14</td>\n",
              "      <td>Crystal Palace</td>\n",
              "      <td>11</td>\n",
              "      <td>1</td>\n",
              "      <td>1</td>\n",
              "      <td>Sat</td>\n",
              "      <td>0</td>\n",
              "      <td>...</td>\n",
              "      <td>10</td>\n",
              "      <td>2</td>\n",
              "      <td>17</td>\n",
              "      <td>11</td>\n",
              "      <td>10</td>\n",
              "      <td>5</td>\n",
              "      <td>3</td>\n",
              "      <td>1</td>\n",
              "      <td>0</td>\n",
              "      <td>0</td>\n",
              "    </tr>\n",
              "    <tr>\n",
              "      <th>24/04/2022</th>\n",
              "      <td>04:30:00 PM</td>\n",
              "      <td>3</td>\n",
              "      <td>Liverpool</td>\n",
              "      <td>10</td>\n",
              "      <td>Everton</td>\n",
              "      <td>7</td>\n",
              "      <td>1</td>\n",
              "      <td>1</td>\n",
              "      <td>Sun</td>\n",
              "      <td>1</td>\n",
              "      <td>...</td>\n",
              "      <td>4</td>\n",
              "      <td>1</td>\n",
              "      <td>8</td>\n",
              "      <td>8</td>\n",
              "      <td>13</td>\n",
              "      <td>1</td>\n",
              "      <td>2</td>\n",
              "      <td>5</td>\n",
              "      <td>0</td>\n",
              "      <td>0</td>\n",
              "    </tr>\n",
              "    <tr>\n",
              "      <th>23/02/2022</th>\n",
              "      <td>07:45:00 PM</td>\n",
              "      <td>3</td>\n",
              "      <td>Liverpool</td>\n",
              "      <td>9</td>\n",
              "      <td>Leeds</td>\n",
              "      <td>6</td>\n",
              "      <td>1</td>\n",
              "      <td>1</td>\n",
              "      <td>Wed</td>\n",
              "      <td>0</td>\n",
              "      <td>...</td>\n",
              "      <td>15</td>\n",
              "      <td>2</td>\n",
              "      <td>5</td>\n",
              "      <td>11</td>\n",
              "      <td>4</td>\n",
              "      <td>0</td>\n",
              "      <td>0</td>\n",
              "      <td>3</td>\n",
              "      <td>0</td>\n",
              "      <td>0</td>\n",
              "    </tr>\n",
              "    <tr>\n",
              "      <th>10/02/22</th>\n",
              "      <td>07:45:00 PM</td>\n",
              "      <td>3</td>\n",
              "      <td>Liverpool</td>\n",
              "      <td>5</td>\n",
              "      <td>Leicester</td>\n",
              "      <td>2</td>\n",
              "      <td>1</td>\n",
              "      <td>1</td>\n",
              "      <td>Thu</td>\n",
              "      <td>0</td>\n",
              "      <td>...</td>\n",
              "      <td>11</td>\n",
              "      <td>1</td>\n",
              "      <td>11</td>\n",
              "      <td>7</td>\n",
              "      <td>7</td>\n",
              "      <td>6</td>\n",
              "      <td>1</td>\n",
              "      <td>0</td>\n",
              "      <td>0</td>\n",
              "      <td>0</td>\n",
              "    </tr>\n",
              "    <tr>\n",
              "      <th>03/10/21</th>\n",
              "      <td>04:30:00 PM</td>\n",
              "      <td>3</td>\n",
              "      <td>Liverpool</td>\n",
              "      <td>1</td>\n",
              "      <td>Man City</td>\n",
              "      <td>-2</td>\n",
              "      <td>0</td>\n",
              "      <td>1</td>\n",
              "      <td>Sun</td>\n",
              "      <td>1</td>\n",
              "      <td>...</td>\n",
              "      <td>4</td>\n",
              "      <td>3</td>\n",
              "      <td>10</td>\n",
              "      <td>12</td>\n",
              "      <td>3</td>\n",
              "      <td>4</td>\n",
              "      <td>3</td>\n",
              "      <td>3</td>\n",
              "      <td>0</td>\n",
              "      <td>0</td>\n",
              "    </tr>\n",
              "    <tr>\n",
              "      <th>19/04/2022</th>\n",
              "      <td>08:00:00 PM</td>\n",
              "      <td>3</td>\n",
              "      <td>Liverpool</td>\n",
              "      <td>2</td>\n",
              "      <td>Man United</td>\n",
              "      <td>-1</td>\n",
              "      <td>0</td>\n",
              "      <td>1</td>\n",
              "      <td>Tue</td>\n",
              "      <td>0</td>\n",
              "      <td>...</td>\n",
              "      <td>5</td>\n",
              "      <td>1</td>\n",
              "      <td>3</td>\n",
              "      <td>6</td>\n",
              "      <td>10</td>\n",
              "      <td>2</td>\n",
              "      <td>1</td>\n",
              "      <td>2</td>\n",
              "      <td>0</td>\n",
              "      <td>0</td>\n",
              "    </tr>\n",
              "    <tr>\n",
              "      <th>16/12/2021</th>\n",
              "      <td>08:00:00 PM</td>\n",
              "      <td>3</td>\n",
              "      <td>Liverpool</td>\n",
              "      <td>12</td>\n",
              "      <td>Newcastle</td>\n",
              "      <td>9</td>\n",
              "      <td>1</td>\n",
              "      <td>1</td>\n",
              "      <td>Thu</td>\n",
              "      <td>0</td>\n",
              "      <td>...</td>\n",
              "      <td>8</td>\n",
              "      <td>2</td>\n",
              "      <td>9</td>\n",
              "      <td>4</td>\n",
              "      <td>11</td>\n",
              "      <td>0</td>\n",
              "      <td>1</td>\n",
              "      <td>3</td>\n",
              "      <td>0</td>\n",
              "      <td>0</td>\n",
              "    </tr>\n",
              "    <tr>\n",
              "      <th>19/02/2022</th>\n",
              "      <td>03:00:00 PM</td>\n",
              "      <td>3</td>\n",
              "      <td>Liverpool</td>\n",
              "      <td>18</td>\n",
              "      <td>Norwich</td>\n",
              "      <td>15</td>\n",
              "      <td>1</td>\n",
              "      <td>1</td>\n",
              "      <td>Sat</td>\n",
              "      <td>0</td>\n",
              "      <td>...</td>\n",
              "      <td>8</td>\n",
              "      <td>1</td>\n",
              "      <td>7</td>\n",
              "      <td>8</td>\n",
              "      <td>9</td>\n",
              "      <td>4</td>\n",
              "      <td>0</td>\n",
              "      <td>1</td>\n",
              "      <td>0</td>\n",
              "      <td>0</td>\n",
              "    </tr>\n",
              "    <tr>\n",
              "      <th>27/11/2021</th>\n",
              "      <td>03:00:00 PM</td>\n",
              "      <td>3</td>\n",
              "      <td>Liverpool</td>\n",
              "      <td>15</td>\n",
              "      <td>Southampton</td>\n",
              "      <td>12</td>\n",
              "      <td>1</td>\n",
              "      <td>1</td>\n",
              "      <td>Sat</td>\n",
              "      <td>0</td>\n",
              "      <td>...</td>\n",
              "      <td>6</td>\n",
              "      <td>3</td>\n",
              "      <td>7</td>\n",
              "      <td>14</td>\n",
              "      <td>5</td>\n",
              "      <td>7</td>\n",
              "      <td>0</td>\n",
              "      <td>1</td>\n",
              "      <td>0</td>\n",
              "      <td>0</td>\n",
              "    </tr>\n",
              "    <tr>\n",
              "      <th>07/05/22</th>\n",
              "      <td>07:45:00 PM</td>\n",
              "      <td>3</td>\n",
              "      <td>Liverpool</td>\n",
              "      <td>7</td>\n",
              "      <td>Tottenham</td>\n",
              "      <td>4</td>\n",
              "      <td>1</td>\n",
              "      <td>1</td>\n",
              "      <td>Sat</td>\n",
              "      <td>0</td>\n",
              "      <td>...</td>\n",
              "      <td>3</td>\n",
              "      <td>3</td>\n",
              "      <td>12</td>\n",
              "      <td>8</td>\n",
              "      <td>11</td>\n",
              "      <td>5</td>\n",
              "      <td>3</td>\n",
              "      <td>2</td>\n",
              "      <td>0</td>\n",
              "      <td>0</td>\n",
              "    </tr>\n",
              "    <tr>\n",
              "      <th>02/04/22</th>\n",
              "      <td>12:30:00 PM</td>\n",
              "      <td>3</td>\n",
              "      <td>Liverpool</td>\n",
              "      <td>19</td>\n",
              "      <td>Watford</td>\n",
              "      <td>16</td>\n",
              "      <td>1</td>\n",
              "      <td>1</td>\n",
              "      <td>Sat</td>\n",
              "      <td>0</td>\n",
              "      <td>...</td>\n",
              "      <td>3</td>\n",
              "      <td>2</td>\n",
              "      <td>9</td>\n",
              "      <td>8</td>\n",
              "      <td>9</td>\n",
              "      <td>3</td>\n",
              "      <td>1</td>\n",
              "      <td>1</td>\n",
              "      <td>0</td>\n",
              "      <td>0</td>\n",
              "    </tr>\n",
              "    <tr>\n",
              "      <th>05/03/22</th>\n",
              "      <td>05:30:00 PM</td>\n",
              "      <td>3</td>\n",
              "      <td>Liverpool</td>\n",
              "      <td>6</td>\n",
              "      <td>West Ham</td>\n",
              "      <td>3</td>\n",
              "      <td>1</td>\n",
              "      <td>1</td>\n",
              "      <td>Sat</td>\n",
              "      <td>0</td>\n",
              "      <td>...</td>\n",
              "      <td>5</td>\n",
              "      <td>5</td>\n",
              "      <td>7</td>\n",
              "      <td>7</td>\n",
              "      <td>4</td>\n",
              "      <td>6</td>\n",
              "      <td>2</td>\n",
              "      <td>1</td>\n",
              "      <td>0</td>\n",
              "      <td>0</td>\n",
              "    </tr>\n",
              "    <tr>\n",
              "      <th>22/05/2022</th>\n",
              "      <td>04:00:00 PM</td>\n",
              "      <td>3</td>\n",
              "      <td>Liverpool</td>\n",
              "      <td>13</td>\n",
              "      <td>Wolves</td>\n",
              "      <td>10</td>\n",
              "      <td>1</td>\n",
              "      <td>1</td>\n",
              "      <td>Sun</td>\n",
              "      <td>1</td>\n",
              "      <td>...</td>\n",
              "      <td>8</td>\n",
              "      <td>5</td>\n",
              "      <td>6</td>\n",
              "      <td>3</td>\n",
              "      <td>5</td>\n",
              "      <td>3</td>\n",
              "      <td>1</td>\n",
              "      <td>0</td>\n",
              "      <td>0</td>\n",
              "      <td>0</td>\n",
              "    </tr>\n",
              "  </tbody>\n",
              "</table>\n",
              "<p>19 rows × 33 columns</p>\n",
              "</div>"
            ],
            "text/plain": [
              "                   Time  HT_rank   HomeTeam  AT_rank        AwayTeam  \\\n",
              "Date                                                                   \n",
              "20/11/2021  05:30:00 PM        3  Liverpool        8         Arsenal   \n",
              "11/12/21    03:00:00 PM        3  Liverpool       11     Aston Villa   \n",
              "16/01/2022  02:00:00 PM        3  Liverpool       20       Brentford   \n",
              "30/10/2021  03:00:00 PM        3  Liverpool       16        Brighton   \n",
              "21/08/2021  12:30:00 PM        3  Liverpool       17         Burnley   \n",
              "28/08/2021  05:30:00 PM        3  Liverpool        4         Chelsea   \n",
              "18/09/2021  03:00:00 PM        3  Liverpool       14  Crystal Palace   \n",
              "24/04/2022  04:30:00 PM        3  Liverpool       10         Everton   \n",
              "23/02/2022  07:45:00 PM        3  Liverpool        9           Leeds   \n",
              "10/02/22    07:45:00 PM        3  Liverpool        5       Leicester   \n",
              "03/10/21    04:30:00 PM        3  Liverpool        1        Man City   \n",
              "19/04/2022  08:00:00 PM        3  Liverpool        2      Man United   \n",
              "16/12/2021  08:00:00 PM        3  Liverpool       12       Newcastle   \n",
              "19/02/2022  03:00:00 PM        3  Liverpool       18         Norwich   \n",
              "27/11/2021  03:00:00 PM        3  Liverpool       15     Southampton   \n",
              "07/05/22    07:45:00 PM        3  Liverpool        7       Tottenham   \n",
              "02/04/22    12:30:00 PM        3  Liverpool       19         Watford   \n",
              "05/03/22    05:30:00 PM        3  Liverpool        6        West Ham   \n",
              "22/05/2022  04:00:00 PM        3  Liverpool       13          Wolves   \n",
              "\n",
              "            Rank_diff  Rank_bin  Home_venue  Day  Day_bin  ...  HST  AST  HF  \\\n",
              "Date                                                       ...                 \n",
              "20/11/2021          5         1           1  Sat        0  ...    9    3  15   \n",
              "11/12/21            8         1           1  Sat        0  ...    5    0  13   \n",
              "16/01/2022         17         1           1  Sun        1  ...   13    1   6   \n",
              "30/10/2021         13         1           1  Sat        0  ...    3    6   8   \n",
              "21/08/2021         14         1           1  Sat        0  ...    9    3   6   \n",
              "28/08/2021          1         1           1  Sat        0  ...    7    3  13   \n",
              "18/09/2021         11         1           1  Sat        0  ...   10    2  17   \n",
              "24/04/2022          7         1           1  Sun        1  ...    4    1   8   \n",
              "23/02/2022          6         1           1  Wed        0  ...   15    2   5   \n",
              "10/02/22            2         1           1  Thu        0  ...   11    1  11   \n",
              "03/10/21           -2         0           1  Sun        1  ...    4    3  10   \n",
              "19/04/2022         -1         0           1  Tue        0  ...    5    1   3   \n",
              "16/12/2021          9         1           1  Thu        0  ...    8    2   9   \n",
              "19/02/2022         15         1           1  Sat        0  ...    8    1   7   \n",
              "27/11/2021         12         1           1  Sat        0  ...    6    3   7   \n",
              "07/05/22            4         1           1  Sat        0  ...    3    3  12   \n",
              "02/04/22           16         1           1  Sat        0  ...    3    2   9   \n",
              "05/03/22            3         1           1  Sat        0  ...    5    5   7   \n",
              "22/05/2022         10         1           1  Sun        1  ...    8    5   6   \n",
              "\n",
              "            AF  HC  AC HY  AY  HR AR  \n",
              "Date                                  \n",
              "20/11/2021  12   6   1  2   0   0  0  \n",
              "11/12/21     6  11   3  1   2   0  0  \n",
              "16/01/2022   6   9   0  0   1   0  0  \n",
              "30/10/2021   5   5   3  2   2   0  0  \n",
              "21/08/2021  12   8   4  0   0   0  0  \n",
              "28/08/2021   4  12   3  0   2   0  1  \n",
              "18/09/2021  11  10   5  3   1   0  0  \n",
              "24/04/2022   8  13   1  2   5   0  0  \n",
              "23/02/2022  11   4   0  0   3   0  0  \n",
              "10/02/22     7   7   6  1   0   0  0  \n",
              "03/10/21    12   3   4  3   3   0  0  \n",
              "19/04/2022   6  10   2  1   2   0  0  \n",
              "16/12/2021   4  11   0  1   3   0  0  \n",
              "19/02/2022   8   9   4  0   1   0  0  \n",
              "27/11/2021  14   5   7  0   1   0  0  \n",
              "07/05/22     8  11   5  3   2   0  0  \n",
              "02/04/22     8   9   3  1   1   0  0  \n",
              "05/03/22     7   4   6  2   1   0  0  \n",
              "22/05/2022   3   5   3  1   0   0  0  \n",
              "\n",
              "[19 rows x 33 columns]"
            ]
          },
          "execution_count": 10,
          "metadata": {},
          "output_type": "execute_result"
        }
      ],
      "source": [
        "df[df['HomeTeam'] == 'Liverpool']"
      ]
    },
    {
      "cell_type": "code",
      "execution_count": null,
      "id": "c5a4f8c9",
      "metadata": {
        "id": "c5a4f8c9",
        "outputId": "ebe86ff8-d6f0-42e5-af85-169a32a458bc"
      },
      "outputs": [
        {
          "data": {
            "text/plain": [
              "Date\n",
              "22/10/2021    1\n",
              "19/02/2022    1\n",
              "09/04/22      1\n",
              "23/01/2022    1\n",
              "22/08/2021    1\n",
              "             ..\n",
              "15/05/2022    1\n",
              "15/01/2022    1\n",
              "22/08/2021    1\n",
              "10/03/22      1\n",
              "20/11/2021    1\n",
              "Name: Home_venue, Length: 380, dtype: int64"
            ]
          },
          "execution_count": 11,
          "metadata": {},
          "output_type": "execute_result"
        }
      ],
      "source": [
        "df[\"Home_venue\"]"
      ]
    },
    {
      "cell_type": "markdown",
      "id": "8e0b4d88",
      "metadata": {
        "id": "8e0b4d88"
      },
      "source": [
        "   ### Using the Scikit-Learn classifier models on our dataset"
      ]
    },
    {
      "cell_type": "markdown",
      "id": "7f779461",
      "metadata": {
        "id": "7f779461"
      },
      "source": [
        "We make use of the Random Forest Classifer , Logistic Regression classifer, Support Vector Machine classifer and KNN Classifer models."
      ]
    },
    {
      "cell_type": "code",
      "execution_count": null,
      "id": "23658b82",
      "metadata": {
        "id": "23658b82"
      },
      "outputs": [],
      "source": [
        "from sklearn.ensemble import RandomForestClassifier"
      ]
    },
    {
      "cell_type": "code",
      "execution_count": null,
      "id": "71b35335",
      "metadata": {
        "id": "71b35335"
      },
      "outputs": [],
      "source": [
        "from sklearn.linear_model import LogisticRegression"
      ]
    },
    {
      "cell_type": "code",
      "execution_count": null,
      "id": "b56a6af2",
      "metadata": {
        "id": "b56a6af2"
      },
      "outputs": [],
      "source": [
        "from sklearn.svm import SVC"
      ]
    },
    {
      "cell_type": "code",
      "execution_count": null,
      "id": "b853bf3c",
      "metadata": {
        "id": "b853bf3c"
      },
      "outputs": [],
      "source": [
        "from sklearn.neighbors import KNeighborsClassifier"
      ]
    },
    {
      "cell_type": "markdown",
      "id": "edf870bf",
      "metadata": {
        "id": "edf870bf"
      },
      "source": [
        "Now we shall split-up our training and test data. We split the data into 70:30 ratio first. We also define the features and target column for our classification. The target is obviously the result of the soccer match.\n"
      ]
    },
    {
      "cell_type": "code",
      "execution_count": null,
      "id": "ed8f23b7",
      "metadata": {
        "id": "ed8f23b7"
      },
      "outputs": [],
      "source": [
        "from sklearn.model_selection import train_test_split"
      ]
    },
    {
      "cell_type": "code",
      "execution_count": null,
      "id": "83ea1762",
      "metadata": {
        "id": "83ea1762"
      },
      "outputs": [],
      "source": [
        "features = [\"Home_venue\", \"Rank_diff\",\"Attendance\",\"Day_bin\"] # Features to predict the outcome"
      ]
    },
    {
      "cell_type": "code",
      "execution_count": null,
      "id": "e4d591bb",
      "metadata": {
        "id": "e4d591bb"
      },
      "outputs": [],
      "source": [
        "target = \"Result_bin\" # The column we want to predict"
      ]
    },
    {
      "cell_type": "code",
      "execution_count": null,
      "id": "f84194bb",
      "metadata": {
        "id": "f84194bb"
      },
      "outputs": [],
      "source": [
        "X = df[features] # Get the feature data\n",
        "y = df[target]   # Get the target data"
      ]
    },
    {
      "cell_type": "code",
      "execution_count": null,
      "id": "28c92cd2",
      "metadata": {
        "id": "28c92cd2"
      },
      "outputs": [],
      "source": [
        "X_train, X_test, y_train, y_test = train_test_split(X, y, test_size=.30, random_state=0) # Split the dataset on 70:30 ratio"
      ]
    },
    {
      "cell_type": "code",
      "execution_count": null,
      "id": "23c018bf",
      "metadata": {
        "id": "23c018bf",
        "outputId": "839dca06-7266-460e-d6f0-8b4ce1fdd6be"
      },
      "outputs": [
        {
          "data": {
            "text/plain": [
              "RandomForestClassifier()"
            ]
          },
          "execution_count": 21,
          "metadata": {},
          "output_type": "execute_result"
        }
      ],
      "source": [
        "rfc = RandomForestClassifier()\n",
        "rfc.fit(X_train,y_train)"
      ]
    },
    {
      "cell_type": "code",
      "execution_count": null,
      "id": "af7851a4",
      "metadata": {
        "id": "af7851a4",
        "outputId": "481c1b69-6ac6-4a34-ca82-066206d566c3"
      },
      "outputs": [
        {
          "data": {
            "text/plain": [
              "LogisticRegression()"
            ]
          },
          "execution_count": 22,
          "metadata": {},
          "output_type": "execute_result"
        }
      ],
      "source": [
        "lr = LogisticRegression()\n",
        "lr.fit(X_train,y_train)"
      ]
    },
    {
      "cell_type": "code",
      "execution_count": null,
      "id": "dfc8bec3",
      "metadata": {
        "id": "dfc8bec3",
        "outputId": "0a80828c-042f-41e9-d7d1-a77bf9679d1b"
      },
      "outputs": [
        {
          "data": {
            "text/plain": [
              "SVC(kernel='linear')"
            ]
          },
          "execution_count": 23,
          "metadata": {},
          "output_type": "execute_result"
        }
      ],
      "source": [
        "svc= SVC(kernel=\"linear\")\n",
        "svc.fit(X_train, y_train)"
      ]
    },
    {
      "cell_type": "code",
      "execution_count": null,
      "id": "ae35915f",
      "metadata": {
        "id": "ae35915f",
        "outputId": "36a9c820-1797-48df-fc68-9f4bec2441fe"
      },
      "outputs": [
        {
          "data": {
            "text/plain": [
              "KNeighborsClassifier(n_neighbors=3)"
            ]
          },
          "execution_count": 24,
          "metadata": {},
          "output_type": "execute_result"
        }
      ],
      "source": [
        "knc = KNeighborsClassifier(n_neighbors=3)\n",
        "knc.fit(X_train,y_train)"
      ]
    },
    {
      "cell_type": "code",
      "execution_count": null,
      "id": "7b29724a",
      "metadata": {
        "id": "7b29724a",
        "outputId": "432a0b32-e0f9-4385-84aa-dd87d330a6b6"
      },
      "outputs": [
        {
          "data": {
            "text/plain": [
              "(1.0, 0.6140350877192983)"
            ]
          },
          "execution_count": 25,
          "metadata": {},
          "output_type": "execute_result"
        }
      ],
      "source": [
        "rfc.score(X_train, y_train) ,rfc.score(X_test, y_test)"
      ]
    },
    {
      "cell_type": "code",
      "execution_count": null,
      "id": "8dfb3e97",
      "metadata": {
        "id": "8dfb3e97",
        "outputId": "86855ea6-18e8-438a-c613-d00b353c6206"
      },
      "outputs": [
        {
          "data": {
            "text/plain": [
              "(0.6578947368421053, 0.6140350877192983)"
            ]
          },
          "execution_count": 26,
          "metadata": {},
          "output_type": "execute_result"
        }
      ],
      "source": [
        "lr.score(X_train, y_train) , lr.score(X_test, y_test)"
      ]
    },
    {
      "cell_type": "code",
      "execution_count": null,
      "id": "a8a7a70d",
      "metadata": {
        "id": "a8a7a70d",
        "outputId": "5b57a3d0-66c8-4ad4-cf0f-2163feca0162"
      },
      "outputs": [
        {
          "data": {
            "text/plain": [
              "(0.6766917293233082, 0.6140350877192983)"
            ]
          },
          "execution_count": 27,
          "metadata": {},
          "output_type": "execute_result"
        }
      ],
      "source": [
        "svc.score(X_train, y_train) , svc.score(X_test, y_test)"
      ]
    },
    {
      "cell_type": "code",
      "execution_count": null,
      "id": "9b02a22a",
      "metadata": {
        "id": "9b02a22a",
        "outputId": "c86c5bd2-d5e7-4cf5-ff56-1c816cf394a4"
      },
      "outputs": [
        {
          "data": {
            "text/plain": [
              "(0.8082706766917294, 0.631578947368421)"
            ]
          },
          "execution_count": 28,
          "metadata": {},
          "output_type": "execute_result"
        }
      ],
      "source": [
        "knc.score(X_train, y_train) , knc.score(X_test, y_test)"
      ]
    },
    {
      "cell_type": "markdown",
      "id": "1e05a505",
      "metadata": {
        "id": "1e05a505"
      },
      "source": [
        "### Great! We have achieved one of our goals !!! We have implemented the classifier models correctly."
      ]
    },
    {
      "cell_type": "code",
      "execution_count": null,
      "id": "84bf8d48",
      "metadata": {
        "id": "84bf8d48",
        "outputId": "7865a3f9-d488-4fae-d4f6-bc8c7d568bde",
        "colab": {
          "referenced_widgets": [
            "d0bc935765904941bfe4166a73cc31a6"
          ]
        }
      },
      "outputs": [
        {
          "data": {
            "application/vnd.jupyter.widget-view+json": {
              "model_id": "d0bc935765904941bfe4166a73cc31a6",
              "version_major": 2,
              "version_minor": 0
            },
            "text/plain": [
              "Image(value=b'RIFF\\x9e\\x89\\x08\\x00WEBPVP8 \\x92\\x89\\x08\\x00\\xf0\\xad\\x12\\x9d\\x01*\\xa0\\x05\\x88\\x03>\\x1d\\x0c\\x85A\\…"
            ]
          },
          "execution_count": 29,
          "metadata": {},
          "output_type": "execute_result"
        }
      ],
      "source": [
        "Image(value=open(\"goal.png\", 'rb').read(),width=\"600\")"
      ]
    },
    {
      "cell_type": "markdown",
      "id": "552ff420",
      "metadata": {
        "id": "552ff420"
      },
      "source": [
        "### Now let us change things up and play around with the models and features"
      ]
    },
    {
      "cell_type": "markdown",
      "id": "babddd69",
      "metadata": {
        "id": "babddd69"
      },
      "source": [
        "We want to implement something to choose the models as per our wish , remove features , change the training and test datasets and see how things play out. We use three widgets for this purpose and observe the changes with the help of charts and graphs."
      ]
    },
    {
      "cell_type": "code",
      "execution_count": null,
      "id": "afde6a51",
      "metadata": {
        "id": "afde6a51"
      },
      "outputs": [],
      "source": [
        "from ipywidgets import widgets, interactive, Layout"
      ]
    },
    {
      "cell_type": "code",
      "execution_count": null,
      "id": "08f0e892",
      "metadata": {
        "id": "08f0e892"
      },
      "outputs": [],
      "source": [
        "def model_ch(model):\n",
        "\n",
        "    if model == \"RFC\":\n",
        "        return rfc.score(X_train, y_train) ,rfc.score(X_test, y_test)\n",
        "    elif model == \"LR\":\n",
        "        return lr.score(X_train, y_train) ,rfc.score(X_test, y_test)\n",
        "    elif model == \"LSV\":\n",
        "        svc= SVC(kernel=\"linear\")\n",
        "        svc.fit(X_train, y_train)\n",
        "        return svc.score(X_train, y_train) ,svc.score(X_test, y_test)\n",
        "    elif model == \"PolySV\":\n",
        "        svc= SVC(kernel=\"poly\")\n",
        "        svc.fit(X_train, y_train)\n",
        "        return svc.score(X_train, y_train) ,svc.score(X_test, y_test)\n",
        "    elif model == \"RbfSVC\":\n",
        "        svc= SVC(kernel=\"rbf\")\n",
        "        svc.fit(X_train, y_train)\n",
        "        return svc.score(X_train, y_train) ,svc.score(X_test, y_test)\n",
        "    elif model == \"KNN_1\":\n",
        "        knc = KNeighborsClassifier(n_neighbors=1)\n",
        "        knc.fit(X_train,y_train)\n",
        "        return knc.score(X_train, y_train) ,knc.score(X_test, y_test)\n",
        "    elif model == \"KNN_3\":\n",
        "        knc = KNeighborsClassifier(n_neighbors=3)\n",
        "        knc.fit(X_train,y_train)\n",
        "        return knc.score(X_train, y_train) ,knc.score(X_test, y_test)\n",
        "    elif model == \"KNN_5\":\n",
        "        knc = KNeighborsClassifier(n_neighbors=5)\n",
        "        knc.fit(X_train,y_train)\n",
        "        return knc.score(X_train, y_train) ,knc.score(X_test, y_test)\n",
        "    else:\n",
        "        return rfc.score(X_train, y_train) ,rfc.score(X_test, y_test)\n",
        "\n",
        "\n",
        ""
      ]
    },
    {
      "cell_type": "code",
      "execution_count": null,
      "id": "6cc70a5e",
      "metadata": {
        "id": "6cc70a5e",
        "outputId": "9d98ccad-cb00-45b1-bd9d-79ce51289c68",
        "colab": {
          "referenced_widgets": [
            "d88c44c3a98942e9b846a0c40a2292b7"
          ]
        }
      },
      "outputs": [
        {
          "data": {
            "application/vnd.jupyter.widget-view+json": {
              "model_id": "d88c44c3a98942e9b846a0c40a2292b7",
              "version_major": 2,
              "version_minor": 0
            },
            "text/plain": [
              "interactive(children=(Dropdown(description='Model', layout=Layout(width='15%'), options=('RFC', 'LR', 'LSV', '…"
            ]
          },
          "metadata": {},
          "output_type": "display_data"
        }
      ],
      "source": [
        "w_model= widgets.Dropdown(\n",
        "    description = 'Model',\n",
        "    options = [\"RFC\",\"LR\",\"LSV\",\"PolySVC\",\"RbfSVC\",\"KNN_1\",\"KNN_3\",\"KNN_5\"],    # a sorted list of unique models\n",
        "    value = \"RFC\",\n",
        "    style = {\"description_width\": '50px'},\n",
        "    layout = Layout(width=\"15%\")\n",
        ")\n",
        "\n",
        "import matplotlib.pyplot as plt\n",
        "\n",
        "def view(model):\n",
        "        train_score, test_score = model_ch(model)\n",
        "        print(\"Training Accuracy is\" , (train_score))\n",
        "        print(\"Testing Accuracy is\" , (test_score))\n",
        "        labels = \"Test Accuracy\",\"Test Inaccuracy\"\n",
        "        sizes = [test_score,1-test_score]\n",
        "        explode = (0.1,0)\n",
        "        fig1, ax1 = plt.subplots()\n",
        "        ax1.pie(sizes, explode=explode, labels=labels, autopct='%1.1f%%',shadow=True, startangle=90)\n",
        "        ax1.axis('equal')  # Equal aspect ratio ensures that pie is drawn as a circle.\n",
        "        plt.show()\n",
        "\n",
        "\n",
        "\n",
        "i = interactive(view, model=w_model)\n",
        "display(i)"
      ]
    },
    {
      "cell_type": "code",
      "execution_count": null,
      "id": "5e8e4061",
      "metadata": {
        "id": "5e8e4061"
      },
      "outputs": [],
      "source": [
        "def feat_ch(feat,model,size):\n",
        "    if feat == \"Home\":\n",
        "        features = [\"Rank_diff\",\"Attendance\",\"Day_bin\"]\n",
        "        X = df[features]\n",
        "    elif feat == \"Rank\":\n",
        "        features = [\"Home_venue\", \"Attendance\",\"Day_bin\"]\n",
        "        X = df[features]\n",
        "    elif feat == \"Attendance\":\n",
        "        features = [\"Home_venue\", \"Rank_diff\",\"Day_bin\"]\n",
        "        X = df[features]\n",
        "    elif feat == \"Day\":\n",
        "        features = [\"Home_venue\", \"Rank_diff\",\"Attendance\"]\n",
        "        X = df[features]\n",
        "    else:\n",
        "        features = [\"Home_venue\", \"Rank_diff\",\"Attendance\",\"Day_bin\"]\n",
        "        X = df[features]\n",
        "    y = df[target]\n",
        "    X_train, X_test, y_train, y_test = train_test_split(X, y, test_size=size, random_state=0) # Split the dataset on 70:30 ratio\n",
        "\n",
        "\n",
        "    if model == \"RFC\":\n",
        "        rfc.fit(X_train,y_train)\n",
        "        return rfc.score(X_test, y_test)\n",
        "    if model == \"LR\":\n",
        "        lr.fit(X_train,y_train)\n",
        "        return lr.score(X_test, y_test)\n",
        "    if model == \"LSV\":\n",
        "        svc= SVC(kernel=\"linear\")\n",
        "        svc.fit(X_train,y_train)\n",
        "        return svc.score(X_test, y_test)\n",
        "    if model == \"KNN_3\":\n",
        "        knc = KNeighborsClassifier(n_neighbors=3)\n",
        "        knc.fit(X_train,y_train)\n",
        "        return knc.score(X_test, y_test)\n"
      ]
    },
    {
      "cell_type": "code",
      "execution_count": null,
      "id": "e0265dd7",
      "metadata": {
        "id": "e0265dd7",
        "outputId": "982faf53-38ff-4597-d9fc-677cc810f284",
        "colab": {
          "referenced_widgets": [
            "31ac3a4e6ea74f5dbaf18cdf4ec0e54e"
          ]
        }
      },
      "outputs": [
        {
          "data": {
            "application/vnd.jupyter.widget-view+json": {
              "model_id": "31ac3a4e6ea74f5dbaf18cdf4ec0e54e",
              "version_major": 2,
              "version_minor": 0
            },
            "text/plain": [
              "interactive(children=(ToggleButtons(description='Feature', layout=Layout(width='15%'), options=('All', 'No Hom…"
            ]
          },
          "metadata": {},
          "output_type": "display_data"
        }
      ],
      "source": [
        "w_feat= widgets.ToggleButtons(\n",
        "    description = 'Feature',\n",
        "    options = [\"All\"] + [\"No Home\", \"No Rank\",\"No Attendance\",\"No Day\"],    # a sorted list of unique features\n",
        "    value = \"All\",\n",
        "    style = {\"description_width\": '50px'},\n",
        "    layout = Layout(width=\"15%\")\n",
        ")\n",
        "\n",
        "w_model= widgets.Dropdown(\n",
        "    description = 'Model',\n",
        "    options = [\"RFC\",\"LR\",\"LSV\",\"KNN_3\"],    # a sorted list of unique models\n",
        "    value = \"RFC\",\n",
        "    style = {\"description_width\": '50px'},\n",
        "    layout = Layout(width=\"15%\")\n",
        ")\n",
        "\n",
        "w_size = widgets.ToggleButtons(\n",
        "    description = 'Test Set',\n",
        "    options = [0.9,0.8,0.7,0.6,0.5,0.4,0.3,0.2,0.1],\n",
        "    value = 0.3,\n",
        "    style = {\"description_width\": '50px'},\n",
        "    layout = Layout(width=\"90%\")\n",
        ")\n",
        "\n",
        "def view(feat,model,size):\n",
        "        test_score = feat_ch(feat,model,size)\n",
        "        print(\"Testing Accuracy is\" , test_score)\n",
        "        labels = \"Test Accuracy\",\"Test Inaccuracy\"\n",
        "        sizes = [test_score,1-test_score]\n",
        "        explode = (0.1,0)\n",
        "        fig1, ax1 = plt.subplots()\n",
        "        ax1.pie(sizes, explode=explode, labels=labels, autopct='%1.1f%%',shadow=True, startangle=90)\n",
        "        ax1.axis('equal')  # Equal aspect ratio ensures that pie is drawn as a circle.\n",
        "        plt.show()\n",
        "\n",
        "\n",
        "i = interactive(view, feat=w_feat,model=w_model,size=w_size)\n",
        "display(i)"
      ]
    },
    {
      "cell_type": "markdown",
      "id": "ccd56951",
      "metadata": {
        "id": "ccd56951"
      },
      "source": [
        "## Observation"
      ]
    },
    {
      "cell_type": "markdown",
      "id": "9670bf83",
      "metadata": {
        "id": "9670bf83"
      },
      "source": [
        "We can make a few salient observations here. The notable ones being:\n",
        "- A balance between training and test size ensures a good fit. A skewed training and testing ratio results in poor accuracy.\n",
        "- All features are important but some features are more important than others. This is especially true with regards to certain features like relative ranking in our case.\n",
        "- Some models perform better and behave differently with different feature sets and training to test ratios. It is thus important to evaluate all models before picking one out as the sole predictive tool."
      ]
    },
    {
      "cell_type": "markdown",
      "id": "053aca9e",
      "metadata": {
        "id": "053aca9e"
      },
      "source": [
        "## Conclusion"
      ]
    },
    {
      "cell_type": "markdown",
      "id": "51a8b45b",
      "metadata": {
        "id": "51a8b45b"
      },
      "source": [
        "That concludes our experiment and project. We have investigated the effect of various features and the train-test sample size effect on the accuracy of our models. The results clearly demonstrate how small variations can affect the outcome of the accuracy scores.\n",
        "\n",
        "The takeaway from this experimental project was that football matches are a fun and interesting classification problem. There is certainly further room for improvement in our project and we can definitely go beyond the small number of features we have used here. However we wanted to keep our project simple to understand but interactive and fun to use."
      ]
    },
    {
      "cell_type": "markdown",
      "id": "679f7dbe",
      "metadata": {
        "id": "679f7dbe"
      },
      "source": [
        "### CHALLENGES\n",
        "\n",
        "We encountered the following challenges in carrying out this project:\n",
        "\n",
        "- Project topic change: Our first topic was not approved by the course Lecturer, because it was too simple to be a project topic. We had to search for a new project topic that befits a team project and got approval from the course Lecturer.\n",
        "  \n",
        "- Learning new things: We had to learn new things like; how to get data using web scrapping, data scripting and how to implement machine learning algorithms to answer our research questions.\n",
        "  \n",
        "- Diversity and inclusion: We came from different countries and background with varying programming knowledge.To ensure proper understanding and inclusion among group members, we shared tasks, carried them out, and explained the outcome for better understanding."
      ]
    },
    {
      "cell_type": "markdown",
      "id": "d7475c9f",
      "metadata": {
        "id": "d7475c9f"
      },
      "source": [
        "## We would like to thank Professor and all of our classmates for being a part of this presentation !!!!!"
      ]
    },
    {
      "cell_type": "code",
      "execution_count": null,
      "id": "c48a45ed",
      "metadata": {
        "id": "c48a45ed",
        "outputId": "18b08235-9c3a-4c2e-ece4-26f787b12e8c",
        "colab": {
          "referenced_widgets": [
            "4adc5a1636204a0c832ee93c27b932a3"
          ]
        }
      },
      "outputs": [
        {
          "data": {
            "application/vnd.jupyter.widget-view+json": {
              "model_id": "4adc5a1636204a0c832ee93c27b932a3",
              "version_major": 2,
              "version_minor": 0
            },
            "text/plain": [
              "Image(value=b'\\xff\\xd8\\xff\\xe0\\x00\\x10JFIF\\x00\\x01\\x01\\x01\\x01,\\x01,\\x00\\x00\\xff\\xdb\\x00C\\x00\\x08\\x06\\x06\\x07\\…"
            ]
          },
          "execution_count": 35,
          "metadata": {},
          "output_type": "execute_result"
        }
      ],
      "source": [
        "Image(value=open(\"thank.png\", 'rb').read(),width=\"600\")"
      ]
    }
  ],
  "metadata": {
    "kernelspec": {
      "display_name": "Python 3 (ipykernel)",
      "language": "python",
      "name": "python3"
    },
    "language_info": {
      "codemirror_mode": {
        "name": "ipython",
        "version": 3
      },
      "file_extension": ".py",
      "mimetype": "text/x-python",
      "name": "python",
      "nbconvert_exporter": "python",
      "pygments_lexer": "ipython3",
      "version": "3.9.1"
    },
    "colab": {
      "provenance": [],
      "include_colab_link": true
    }
  },
  "nbformat": 4,
  "nbformat_minor": 5
}
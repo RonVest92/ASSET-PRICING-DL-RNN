{
  "nbformat": 4,
  "nbformat_minor": 0,
  "metadata": {
    "colab": {
      "provenance": []
    },
    "kernelspec": {
      "name": "python3",
      "display_name": "Python 3"
    },
    "language_info": {
      "name": "python"
    }
  },
  "cells": [
    {
      "cell_type": "code",
      "execution_count": null,
      "metadata": {
        "id": "mXNmh0DRogyt"
      },
      "outputs": [],
      "source": [
        "#! pip install --user --upgrade tensorflow"
      ]
    },
    {
      "cell_type": "code",
      "source": [
        "import tensorflow\n",
        "print(tensorflow.__version__)"
      ],
      "metadata": {
        "colab": {
          "base_uri": "https://localhost:8080/"
        },
        "id": "cmjmxjmO96LX",
        "outputId": "c6771442-22a9-4aa8-f478-71565c646b7c"
      },
      "execution_count": null,
      "outputs": [
        {
          "output_type": "stream",
          "name": "stdout",
          "text": [
            "2.15.0\n"
          ]
        }
      ]
    },
    {
      "cell_type": "code",
      "source": [
        "import pandas as pd\n",
        "path = \"/content/drive/MyDrive/Dataset/rpsdata_rfs_cleaned_2000.csv\"\n",
        "df_raw = pd.read_csv(path)\n"
      ],
      "metadata": {
        "id": "VPAQ9BBeTZik"
      },
      "execution_count": null,
      "outputs": []
    },
    {
      "cell_type": "code",
      "source": [
        "#df_raw.head()"
      ],
      "metadata": {
        "id": "YePjxGvCcWjn"
      },
      "execution_count": null,
      "outputs": []
    },
    {
      "cell_type": "code",
      "source": [
        "df_raw[\"DATE\"]=pd.to_datetime(df_raw[\"DATE\"],format=\"%Y-%m-%d\")\n",
        "del df_raw[\"datadate\"]\n",
        "del df_raw[\"fyear\"]\n",
        "del df_raw[\"EXCHCD\"]\n",
        "del df_raw[\"prc\"]\n",
        "del df_raw[\"DLRET\"]\n",
        "del df_raw[\"DLSTCD\"]\n",
        "del df_raw[\"sic2\"]\n",
        "del df_raw[\"spi\"]\n",
        "del df_raw[\"mve_f\"]\n",
        "del df_raw[\"spii\"]\n",
        "del df_raw[\"cf\"]\n",
        "del df_raw[\"chpm\"]\n",
        "del df_raw[\"chato\"]\n",
        "del df_raw[\"chadv\"]\n",
        "del df_raw[\"pchcapx\"]\n",
        "del df_raw[\"grGW\"]\n",
        "del df_raw[\"woGW\"]\n",
        "del df_raw[\"obklg\"]\n",
        "del df_raw[\"chobklg\"]\n",
        "del df_raw[\"conv\"]\n",
        "del df_raw[\"chdrc\"]\n",
        "del df_raw[\"rdbias\"]\n",
        "del df_raw[\"roe\"]\n",
        "del df_raw[\"credrat\"]\n",
        "del df_raw[\"credrat_dwn\"]\n",
        "del df_raw[\"SHROUT\"]\n",
        "del df_raw[\"VOL\"]\n",
        "del df_raw[\"mve_m\"]\n",
        "del df_raw[\"pps\"]\n",
        "del df_raw[\"rdq\"]\n",
        "del df_raw[\"prccq\"]\n",
        "del df_raw[\"sgrvol\"]\n",
        "del df_raw[\"eamonth\"]\n",
        "del df_raw[\"MEANREC\"]\n",
        "del df_raw[\"chrec\"]\n",
        "del df_raw[\"MEANEST\"]\n",
        "del df_raw[\"ltg\"]\n",
        "del df_raw[\"count\"]\n",
        "del df_raw[\"ewret\"]\n",
        "del df_raw[\"retcons_pos\"]\n",
        "del df_raw[\"retcons_neg\"]\n",
        "del df_raw[\"rsq1\"]\n"
      ],
      "metadata": {
        "id": "V9kY7KZBcyTH"
      },
      "execution_count": null,
      "outputs": []
    },
    {
      "cell_type": "code",
      "source": [
        "#df_raw.head()"
      ],
      "metadata": {
        "id": "hDrRgNGUdBYm"
      },
      "execution_count": null,
      "outputs": []
    },
    {
      "cell_type": "code",
      "source": [
        "df_raw.info()"
      ],
      "metadata": {
        "colab": {
          "base_uri": "https://localhost:8080/"
        },
        "id": "1raNCV87dV7i",
        "outputId": "19e00c80-6a82-4a24-9fae-5ed19dfd795d"
      },
      "execution_count": null,
      "outputs": [
        {
          "output_type": "stream",
          "name": "stdout",
          "text": [
            "<class 'pandas.core.frame.DataFrame'>\n",
            "RangeIndex: 979072 entries, 0 to 979071\n",
            "Columns: 105 entries, permno to idiovol\n",
            "dtypes: datetime64[ns](1), float64(98), int64(6)\n",
            "memory usage: 784.3 MB\n"
          ]
        }
      ]
    },
    {
      "cell_type": "code",
      "source": [
        "len(df_raw)"
      ],
      "metadata": {
        "colab": {
          "base_uri": "https://localhost:8080/"
        },
        "id": "2tltksRqdg0y",
        "outputId": "2910cc56-692d-4976-b945-c3908526250d"
      },
      "execution_count": null,
      "outputs": [
        {
          "output_type": "execute_result",
          "data": {
            "text/plain": [
              "979072"
            ]
          },
          "metadata": {},
          "execution_count": 10
        }
      ]
    },
    {
      "cell_type": "markdown",
      "source": [
        "##Random sampling of Data"
      ],
      "metadata": {
        "id": "tKfKfP5iAjd1"
      }
    },
    {
      "cell_type": "code",
      "source": [
        "import random\n",
        "num_stock=2000   #The number of stocks.\n",
        "random.seed(2022)\n",
        "stocklist =  random.sample(list(df_raw.permno.unique()),num_stock)\n",
        "df = df_raw[df_raw.permno.isin(stocklist)].copy()\n",
        "df[\"RET\"]=df.groupby(by=\"permno\").RET.shift(-1)\n",
        "df = df[df['RET'].notna()]\n",
        "df.sort_values(by=[\"permno\",\"DATE\"],inplace=True)\n",
        "df.reset_index(drop=True,inplace=True)"
      ],
      "metadata": {
        "id": "L0c5vcb-cOXB"
      },
      "execution_count": null,
      "outputs": []
    },
    {
      "cell_type": "code",
      "source": [
        "#df.head()"
      ],
      "metadata": {
        "id": "5wDBMOFG4dVu"
      },
      "execution_count": null,
      "outputs": []
    },
    {
      "cell_type": "markdown",
      "source": [
        "###Creating the names of features and target variable"
      ],
      "metadata": {
        "id": "0amj7xzaZkNP"
      }
    },
    {
      "cell_type": "code",
      "source": [
        "featurename=list(df.columns)\n",
        "featurename.remove(\"permno\")\n",
        "featurename.remove(\"DATE\")\n",
        "featurename.remove(\"RET\")\n",
        "targetname=\"RET\""
      ],
      "metadata": {
        "id": "zkdjaACRZchd"
      },
      "execution_count": null,
      "outputs": []
    },
    {
      "cell_type": "code",
      "source": [
        "# lstm for time series forecasting\n",
        "from numpy import sqrt\n",
        "from numpy import asarray\n",
        "from pandas import read_csv\n",
        "from tensorflow.keras import Sequential\n",
        "from tensorflow.keras.layers import Dense\n",
        "from tensorflow.keras.layers import LSTM"
      ],
      "metadata": {
        "id": "FCTYSxKGZ1Jo"
      },
      "execution_count": null,
      "outputs": []
    },
    {
      "cell_type": "code",
      "source": [
        "import numpy as np\n",
        "from sklearn import preprocessing\n",
        "from sklearn.impute import SimpleImputer\n",
        "min_max_scaler = preprocessing.MinMaxScaler()\n",
        "imputer = SimpleImputer(strategy='mean')\n",
        "\n",
        "nanpercent = 0.2  #Threshold for removing columns with too many NaNs\n",
        "trainlength=190   #Length of training period\n",
        "testlength=45     #Length of testing period\n",
        "date_all=np.sort(df.DATE.unique())\n",
        "index_teststart = np.arange(trainlength, len(date_all), testlength)    #np.arange(start, stop, step)\n",
        "for i in index_teststart:\n",
        "\n",
        "    #Stop for-loop when i is too large\n",
        "    if (i+testlength)>len(date_all):\n",
        "        break\n",
        "\n",
        "    #Get the start and end dates to train and test\n",
        "    trainstart = date_all[0]\n",
        "    teststart = date_all[i]\n",
        "    testend = date_all[i+testlength-1]\n",
        "\n",
        "    #Get the training and testing sets\n",
        "    train_x = df[(df.DATE>=trainstart) & (df.DATE<teststart)][featurename].copy()\n",
        "    train_y = df[(df.DATE>=trainstart) & (df.DATE<teststart)][targetname].copy()\n",
        "    test_x = df[(df.DATE>=teststart) & (df.DATE<=testend)][featurename].copy()\n",
        "    test_y = df[(df.DATE>=teststart) & (df.DATE<=testend)][targetname].copy()\n",
        "\n",
        "    #Imputation and standardization\n",
        "    feature_avail=train_x.columns[train_x.isna().mean(axis=0)<nanpercent]\n",
        "    train_x = train_x[feature_avail]\n",
        "    train_x = imputer.fit_transform(train_x)\n",
        "    train_x = min_max_scaler.fit_transform(train_x)\n",
        "    test_x = test_x[feature_avail]\n",
        "    test_x = imputer.transform(test_x)\n",
        "    test_x = min_max_scaler.transform(test_x)\n",
        "\n",
        "train_x = min_max_scaler.fit_transform(train_x)\n",
        "test_x = min_max_scaler.transform(test_x)"
      ],
      "metadata": {
        "id": "IWI09Qwkte0j"
      },
      "execution_count": null,
      "outputs": []
    },
    {
      "cell_type": "code",
      "source": [
        "#Encode return to a binary value: 1 (return>0) 0 (return<0)\n",
        "le = preprocessing.LabelEncoder()\n",
        "train_y=le.fit_transform(train_y>0)\n",
        "test_y=le.transform(test_y>0)"
      ],
      "metadata": {
        "id": "hpoovdUN4eFQ"
      },
      "execution_count": null,
      "outputs": []
    },
    {
      "cell_type": "code",
      "source": [
        "import tensorflow as tf\n",
        "from tensorflow import keras\n",
        "from tensorflow.keras import layers\n",
        "from tensorflow.keras.layers import Dense\n",
        "\n",
        "\n",
        "\n",
        "keras.backend.clear_session()  #Clean the session to reset the model/layer ID\n",
        "\n",
        "model = tf.keras.models.Sequential([\n",
        "  tf.keras.layers.Dense(32, activation='relu', kernel_initializer='he_normal', input_shape=(train_x.shape[1],)),\n",
        "  tf.keras.layers.Dense(16, activation='relu', kernel_initializer='he_normal'),\n",
        "   tf.keras.layers.Dense(8, activation='relu', kernel_initializer='he_normal'),\n",
        "   tf.keras.layers.Dense(4, activation='relu', kernel_initializer='he_normal'),\n",
        "   tf.keras.layers.Dense(2, activation='relu', kernel_initializer='he_normal'),\n",
        "  tf.keras.layers.Dense(1, activation='relu')\n",
        "])\n",
        "\n",
        "\n",
        "\n",
        "\n",
        "model.summary()"
      ],
      "metadata": {
        "colab": {
          "base_uri": "https://localhost:8080/"
        },
        "id": "QRmU5UN954E4",
        "outputId": "1551317d-a07e-4627-d9ec-628d168fa1ac"
      },
      "execution_count": null,
      "outputs": [
        {
          "output_type": "stream",
          "name": "stdout",
          "text": [
            "Model: \"sequential\"\n",
            "_________________________________________________________________\n",
            " Layer (type)                Output Shape              Param #   \n",
            "=================================================================\n",
            " dense (Dense)               (None, 32)                2816      \n",
            "                                                                 \n",
            " dense_1 (Dense)             (None, 16)                528       \n",
            "                                                                 \n",
            " dense_2 (Dense)             (None, 8)                 136       \n",
            "                                                                 \n",
            " dense_3 (Dense)             (None, 4)                 36        \n",
            "                                                                 \n",
            " dense_4 (Dense)             (None, 2)                 10        \n",
            "                                                                 \n",
            " dense_5 (Dense)             (None, 1)                 3         \n",
            "                                                                 \n",
            "=================================================================\n",
            "Total params: 3529 (13.79 KB)\n",
            "Trainable params: 3529 (13.79 KB)\n",
            "Non-trainable params: 0 (0.00 Byte)\n",
            "_________________________________________________________________\n"
          ]
        }
      ]
    },
    {
      "cell_type": "code",
      "source": [
        "import os\n",
        "import numpy as np\n",
        "import tensorflow as tf\n",
        "from tensorflow import keras\n",
        "import random as python_random\n",
        "#Set up the random seeds to reproduce results.\n",
        "import os\n",
        "os.environ['PYTHONHASHSEED']=str(0)\n",
        "\n",
        "# Set random seed for reproducibility\n",
        "seed_value = 2022\n",
        "np.random.seed(seed_value)\n",
        "tf.random.set_seed(seed_value)\n",
        "\n",
        "#Define an optimizer, for example, Adam\n",
        "opt = keras.optimizers.Adam(learning_rate=0.0005)\n",
        "\n",
        "\n",
        "#Compile the model\n",
        "model.compile(optimizer=opt,   #Set optimizer='adam' if you want to use default learning rate.\n",
        "              loss='mean_squared_error',\n",
        "              metrics='mean_squared_error',\n",
        "              )\n",
        "\n",
        "#Fit the model: Train and record how the performance metrics changes during training.\n",
        "history = model.fit(train_x, train_y,\n",
        "                    verbose=0,            #1: print training details #0: silent\n",
        "                    batch_size=600,\n",
        "                    epochs=350,\n",
        "                    validation_split=0.2,  #20% of the training data to be used as validation data.\n",
        "                    )\n",
        "\n",
        "#Evaluate the model\n",
        "score=model.evaluate(train_x, train_y, verbose=0)  #return metric, which is MSE\n",
        "print(\"Training Error:\")\n",
        "print(score[0]**0.5)\n",
        "score=model.evaluate(test_x, test_y, verbose=0)  #return metric, which is MSE\n",
        "print(\"Testing Error:\")\n",
        "print(score[0]**0.5)"
      ],
      "metadata": {
        "colab": {
          "base_uri": "https://localhost:8080/"
        },
        "id": "fY4aR6gC_LFO",
        "outputId": "adee04fe-7b56-4246-9c46-b0bbd3450346"
      },
      "execution_count": null,
      "outputs": [
        {
          "output_type": "stream",
          "name": "stdout",
          "text": [
            "Training Error:\n",
            "0.49235742148664047\n",
            "Testing Error:\n",
            "0.5040048901911051\n"
          ]
        }
      ]
    },
    {
      "cell_type": "code",
      "source": [
        "mse, mae = model.evaluate(test_x, test_y, verbose=0)\n",
        "print('MSE: %.3f, RMSE: %.3f, MAE: %.3f' % (mse, sqrt(mse), mae))"
      ],
      "metadata": {
        "colab": {
          "base_uri": "https://localhost:8080/"
        },
        "id": "z_pcC49ddY3O",
        "outputId": "7b892cca-09e5-42dd-8ff9-060d9d80ad83"
      },
      "execution_count": null,
      "outputs": [
        {
          "output_type": "stream",
          "name": "stdout",
          "text": [
            "MSE: 0.254, RMSE: 0.504, MAE: 0.254\n"
          ]
        }
      ]
    },
    {
      "cell_type": "code",
      "source": [
        "# Predict returns for training and testing sets\n",
        "import numpy as np\n",
        "import pandas as pd\n",
        "from IPython.display import display, clear_output\n",
        "\n",
        "df[\"SignalRNN\"]=np.nan\n",
        "\n",
        "test_subset = df.loc[(df.DATE >= teststart) & (df.DATE <= testend)]\n",
        "test_subset[\"SignalRNN\"] = model.predict(test_x)\n",
        "df.update(test_subset)\n",
        "\n",
        "clear_output()\n",
        "display(testend)"
      ],
      "metadata": {
        "colab": {
          "base_uri": "https://localhost:8080/",
          "height": 34
        },
        "id": "Ni10Sye04up-",
        "outputId": "f09afa56-8415-4fef-db34-0bec2d692f31"
      },
      "execution_count": null,
      "outputs": [
        {
          "output_type": "display_data",
          "data": {
            "text/plain": [
              "numpy.datetime64('2019-07-31T00:00:00.000000000')"
            ]
          },
          "metadata": {}
        }
      ]
    },
    {
      "cell_type": "code",
      "source": [
        "#Backtesting\n",
        "import numpy as np\n",
        "\n",
        "pflsize=200  #Number of stocks to long and short (10% of dataset)\n",
        "\n",
        "Datelist=[]\n",
        "ReturnlistRNN=[]\n",
        "\n",
        "for date in date_all[trainlength:]:\n",
        "    dftemp = df[df.DATE==date].copy()\n",
        "    if len(dftemp)>=2*pflsize:\n",
        "        Datelist.append(date)\n",
        "        dftemp.sort_values(by='SignalRNN', ascending=False, inplace=True)\n",
        "        ReturnlistRNN.append(dftemp[\"RET\"][0:pflsize].mean()-dftemp[\"RET\"][-pflsize:].mean())\n",
        "\n",
        "#Collect the results and put them into a data frame\n",
        "dfresult=pd.DataFrame(zip(Datelist,ReturnlistRNN),\n",
        "                        columns=[\"Date\",\"ReturnRNN\"])\n",
        "\n",
        "display(dfresult.head())\n",
        "print(\"Average return:\")\n",
        "print(dfresult[[\"ReturnRNN\"]].mean())\n",
        "print(\"Std:\")\n",
        "print(dfresult[[\"ReturnRNN\"]].std())\n",
        "print(\"Cumulative return:\")\n",
        "print((dfresult.ReturnRNN+1).product())\n"
      ],
      "metadata": {
        "colab": {
          "base_uri": "https://localhost:8080/",
          "height": 345
        },
        "id": "435fQYssk5_i",
        "outputId": "4e24989d-c89c-45ae-8ae3-d4ac1b613219"
      },
      "execution_count": null,
      "outputs": [
        {
          "output_type": "display_data",
          "data": {
            "text/plain": [
              "        Date  ReturnRNN\n",
              "0 2015-11-30   0.006673\n",
              "1 2015-12-31   0.065916\n",
              "2 2016-01-29   0.025996\n",
              "3 2016-02-29  -0.034356\n",
              "4 2016-03-31   0.000940"
            ],
            "text/html": [
              "\n",
              "  <div id=\"df-0e7790f6-ca7e-42f7-b1c4-de8fe72e10a7\" class=\"colab-df-container\">\n",
              "    <div>\n",
              "<style scoped>\n",
              "    .dataframe tbody tr th:only-of-type {\n",
              "        vertical-align: middle;\n",
              "    }\n",
              "\n",
              "    .dataframe tbody tr th {\n",
              "        vertical-align: top;\n",
              "    }\n",
              "\n",
              "    .dataframe thead th {\n",
              "        text-align: right;\n",
              "    }\n",
              "</style>\n",
              "<table border=\"1\" class=\"dataframe\">\n",
              "  <thead>\n",
              "    <tr style=\"text-align: right;\">\n",
              "      <th></th>\n",
              "      <th>Date</th>\n",
              "      <th>ReturnRNN</th>\n",
              "    </tr>\n",
              "  </thead>\n",
              "  <tbody>\n",
              "    <tr>\n",
              "      <th>0</th>\n",
              "      <td>2015-11-30</td>\n",
              "      <td>0.006673</td>\n",
              "    </tr>\n",
              "    <tr>\n",
              "      <th>1</th>\n",
              "      <td>2015-12-31</td>\n",
              "      <td>0.065916</td>\n",
              "    </tr>\n",
              "    <tr>\n",
              "      <th>2</th>\n",
              "      <td>2016-01-29</td>\n",
              "      <td>0.025996</td>\n",
              "    </tr>\n",
              "    <tr>\n",
              "      <th>3</th>\n",
              "      <td>2016-02-29</td>\n",
              "      <td>-0.034356</td>\n",
              "    </tr>\n",
              "    <tr>\n",
              "      <th>4</th>\n",
              "      <td>2016-03-31</td>\n",
              "      <td>0.000940</td>\n",
              "    </tr>\n",
              "  </tbody>\n",
              "</table>\n",
              "</div>\n",
              "    <div class=\"colab-df-buttons\">\n",
              "\n",
              "  <div class=\"colab-df-container\">\n",
              "    <button class=\"colab-df-convert\" onclick=\"convertToInteractive('df-0e7790f6-ca7e-42f7-b1c4-de8fe72e10a7')\"\n",
              "            title=\"Convert this dataframe to an interactive table.\"\n",
              "            style=\"display:none;\">\n",
              "\n",
              "  <svg xmlns=\"http://www.w3.org/2000/svg\" height=\"24px\" viewBox=\"0 -960 960 960\">\n",
              "    <path d=\"M120-120v-720h720v720H120Zm60-500h600v-160H180v160Zm220 220h160v-160H400v160Zm0 220h160v-160H400v160ZM180-400h160v-160H180v160Zm440 0h160v-160H620v160ZM180-180h160v-160H180v160Zm440 0h160v-160H620v160Z\"/>\n",
              "  </svg>\n",
              "    </button>\n",
              "\n",
              "  <style>\n",
              "    .colab-df-container {\n",
              "      display:flex;\n",
              "      gap: 12px;\n",
              "    }\n",
              "\n",
              "    .colab-df-convert {\n",
              "      background-color: #E8F0FE;\n",
              "      border: none;\n",
              "      border-radius: 50%;\n",
              "      cursor: pointer;\n",
              "      display: none;\n",
              "      fill: #1967D2;\n",
              "      height: 32px;\n",
              "      padding: 0 0 0 0;\n",
              "      width: 32px;\n",
              "    }\n",
              "\n",
              "    .colab-df-convert:hover {\n",
              "      background-color: #E2EBFA;\n",
              "      box-shadow: 0px 1px 2px rgba(60, 64, 67, 0.3), 0px 1px 3px 1px rgba(60, 64, 67, 0.15);\n",
              "      fill: #174EA6;\n",
              "    }\n",
              "\n",
              "    .colab-df-buttons div {\n",
              "      margin-bottom: 4px;\n",
              "    }\n",
              "\n",
              "    [theme=dark] .colab-df-convert {\n",
              "      background-color: #3B4455;\n",
              "      fill: #D2E3FC;\n",
              "    }\n",
              "\n",
              "    [theme=dark] .colab-df-convert:hover {\n",
              "      background-color: #434B5C;\n",
              "      box-shadow: 0px 1px 3px 1px rgba(0, 0, 0, 0.15);\n",
              "      filter: drop-shadow(0px 1px 2px rgba(0, 0, 0, 0.3));\n",
              "      fill: #FFFFFF;\n",
              "    }\n",
              "  </style>\n",
              "\n",
              "    <script>\n",
              "      const buttonEl =\n",
              "        document.querySelector('#df-0e7790f6-ca7e-42f7-b1c4-de8fe72e10a7 button.colab-df-convert');\n",
              "      buttonEl.style.display =\n",
              "        google.colab.kernel.accessAllowed ? 'block' : 'none';\n",
              "\n",
              "      async function convertToInteractive(key) {\n",
              "        const element = document.querySelector('#df-0e7790f6-ca7e-42f7-b1c4-de8fe72e10a7');\n",
              "        const dataTable =\n",
              "          await google.colab.kernel.invokeFunction('convertToInteractive',\n",
              "                                                    [key], {});\n",
              "        if (!dataTable) return;\n",
              "\n",
              "        const docLinkHtml = 'Like what you see? Visit the ' +\n",
              "          '<a target=\"_blank\" href=https://colab.research.google.com/notebooks/data_table.ipynb>data table notebook</a>'\n",
              "          + ' to learn more about interactive tables.';\n",
              "        element.innerHTML = '';\n",
              "        dataTable['output_type'] = 'display_data';\n",
              "        await google.colab.output.renderOutput(dataTable, element);\n",
              "        const docLink = document.createElement('div');\n",
              "        docLink.innerHTML = docLinkHtml;\n",
              "        element.appendChild(docLink);\n",
              "      }\n",
              "    </script>\n",
              "  </div>\n",
              "\n",
              "\n",
              "<div id=\"df-00bcac70-7643-472c-b321-fa69b7c21307\">\n",
              "  <button class=\"colab-df-quickchart\" onclick=\"quickchart('df-00bcac70-7643-472c-b321-fa69b7c21307')\"\n",
              "            title=\"Suggest charts\"\n",
              "            style=\"display:none;\">\n",
              "\n",
              "<svg xmlns=\"http://www.w3.org/2000/svg\" height=\"24px\"viewBox=\"0 0 24 24\"\n",
              "     width=\"24px\">\n",
              "    <g>\n",
              "        <path d=\"M19 3H5c-1.1 0-2 .9-2 2v14c0 1.1.9 2 2 2h14c1.1 0 2-.9 2-2V5c0-1.1-.9-2-2-2zM9 17H7v-7h2v7zm4 0h-2V7h2v10zm4 0h-2v-4h2v4z\"/>\n",
              "    </g>\n",
              "</svg>\n",
              "  </button>\n",
              "\n",
              "<style>\n",
              "  .colab-df-quickchart {\n",
              "      --bg-color: #E8F0FE;\n",
              "      --fill-color: #1967D2;\n",
              "      --hover-bg-color: #E2EBFA;\n",
              "      --hover-fill-color: #174EA6;\n",
              "      --disabled-fill-color: #AAA;\n",
              "      --disabled-bg-color: #DDD;\n",
              "  }\n",
              "\n",
              "  [theme=dark] .colab-df-quickchart {\n",
              "      --bg-color: #3B4455;\n",
              "      --fill-color: #D2E3FC;\n",
              "      --hover-bg-color: #434B5C;\n",
              "      --hover-fill-color: #FFFFFF;\n",
              "      --disabled-bg-color: #3B4455;\n",
              "      --disabled-fill-color: #666;\n",
              "  }\n",
              "\n",
              "  .colab-df-quickchart {\n",
              "    background-color: var(--bg-color);\n",
              "    border: none;\n",
              "    border-radius: 50%;\n",
              "    cursor: pointer;\n",
              "    display: none;\n",
              "    fill: var(--fill-color);\n",
              "    height: 32px;\n",
              "    padding: 0;\n",
              "    width: 32px;\n",
              "  }\n",
              "\n",
              "  .colab-df-quickchart:hover {\n",
              "    background-color: var(--hover-bg-color);\n",
              "    box-shadow: 0 1px 2px rgba(60, 64, 67, 0.3), 0 1px 3px 1px rgba(60, 64, 67, 0.15);\n",
              "    fill: var(--button-hover-fill-color);\n",
              "  }\n",
              "\n",
              "  .colab-df-quickchart-complete:disabled,\n",
              "  .colab-df-quickchart-complete:disabled:hover {\n",
              "    background-color: var(--disabled-bg-color);\n",
              "    fill: var(--disabled-fill-color);\n",
              "    box-shadow: none;\n",
              "  }\n",
              "\n",
              "  .colab-df-spinner {\n",
              "    border: 2px solid var(--fill-color);\n",
              "    border-color: transparent;\n",
              "    border-bottom-color: var(--fill-color);\n",
              "    animation:\n",
              "      spin 1s steps(1) infinite;\n",
              "  }\n",
              "\n",
              "  @keyframes spin {\n",
              "    0% {\n",
              "      border-color: transparent;\n",
              "      border-bottom-color: var(--fill-color);\n",
              "      border-left-color: var(--fill-color);\n",
              "    }\n",
              "    20% {\n",
              "      border-color: transparent;\n",
              "      border-left-color: var(--fill-color);\n",
              "      border-top-color: var(--fill-color);\n",
              "    }\n",
              "    30% {\n",
              "      border-color: transparent;\n",
              "      border-left-color: var(--fill-color);\n",
              "      border-top-color: var(--fill-color);\n",
              "      border-right-color: var(--fill-color);\n",
              "    }\n",
              "    40% {\n",
              "      border-color: transparent;\n",
              "      border-right-color: var(--fill-color);\n",
              "      border-top-color: var(--fill-color);\n",
              "    }\n",
              "    60% {\n",
              "      border-color: transparent;\n",
              "      border-right-color: var(--fill-color);\n",
              "    }\n",
              "    80% {\n",
              "      border-color: transparent;\n",
              "      border-right-color: var(--fill-color);\n",
              "      border-bottom-color: var(--fill-color);\n",
              "    }\n",
              "    90% {\n",
              "      border-color: transparent;\n",
              "      border-bottom-color: var(--fill-color);\n",
              "    }\n",
              "  }\n",
              "</style>\n",
              "\n",
              "  <script>\n",
              "    async function quickchart(key) {\n",
              "      const quickchartButtonEl =\n",
              "        document.querySelector('#' + key + ' button');\n",
              "      quickchartButtonEl.disabled = true;  // To prevent multiple clicks.\n",
              "      quickchartButtonEl.classList.add('colab-df-spinner');\n",
              "      try {\n",
              "        const charts = await google.colab.kernel.invokeFunction(\n",
              "            'suggestCharts', [key], {});\n",
              "      } catch (error) {\n",
              "        console.error('Error during call to suggestCharts:', error);\n",
              "      }\n",
              "      quickchartButtonEl.classList.remove('colab-df-spinner');\n",
              "      quickchartButtonEl.classList.add('colab-df-quickchart-complete');\n",
              "    }\n",
              "    (() => {\n",
              "      let quickchartButtonEl =\n",
              "        document.querySelector('#df-00bcac70-7643-472c-b321-fa69b7c21307 button');\n",
              "      quickchartButtonEl.style.display =\n",
              "        google.colab.kernel.accessAllowed ? 'block' : 'none';\n",
              "    })();\n",
              "  </script>\n",
              "</div>\n",
              "\n",
              "    </div>\n",
              "  </div>\n"
            ],
            "application/vnd.google.colaboratory.intrinsic+json": {
              "type": "dataframe",
              "summary": "{\n  \"name\": \"print((dfresult\",\n  \"rows\": 5,\n  \"fields\": [\n    {\n      \"column\": \"Date\",\n      \"properties\": {\n        \"dtype\": \"date\",\n        \"min\": \"2015-11-30 00:00:00\",\n        \"max\": \"2016-03-31 00:00:00\",\n        \"num_unique_values\": 5,\n        \"samples\": [\n          \"2015-12-31 00:00:00\",\n          \"2016-03-31 00:00:00\",\n          \"2016-01-29 00:00:00\"\n        ],\n        \"semantic_type\": \"\",\n        \"description\": \"\"\n      }\n    },\n    {\n      \"column\": \"ReturnRNN\",\n      \"properties\": {\n        \"dtype\": \"number\",\n        \"std\": 0.03673203319631287,\n        \"min\": -0.0343555192066,\n        \"max\": 0.0659155597785,\n        \"num_unique_values\": 5,\n        \"samples\": [\n          0.0659155597785,\n          0.000939694230000003,\n          0.025996011396\n        ],\n        \"semantic_type\": \"\",\n        \"description\": \"\"\n      }\n    }\n  ]\n}"
            }
          },
          "metadata": {}
        },
        {
          "output_type": "stream",
          "name": "stdout",
          "text": [
            "Average return:\n",
            "ReturnRNN    0.011399\n",
            "dtype: float64\n",
            "Std:\n",
            "ReturnRNN    0.031263\n",
            "dtype: float64\n",
            "Cumulative return:\n",
            "1.7028476817630354\n"
          ]
        }
      ]
    },
    {
      "cell_type": "code",
      "source": [
        "# Specify a risk free rate (in this case, the annualized risk-free rate)\n",
        "rf = 0.045  # as of May 10 2024"
      ],
      "metadata": {
        "id": "drnnkY82JceP"
      },
      "execution_count": null,
      "outputs": []
    },
    {
      "cell_type": "code",
      "source": [
        "# Converting the rf to monthly rates\n",
        "import numpy as np\n",
        "import pandas as pd\n",
        "Ret_RNN = (1+(dfresult[[\"ReturnRNN\"]].mean()))**(252/21)-1 # assuming 252 trading days in a year\n",
        "\n",
        "std_RNN = dfresult[[\"ReturnRNN\"]].std()* sqrt(12)  #Annual std\n",
        "\n",
        "# Calculate Sharpe ratio for each model using the monthly risk-free rate\n",
        "Sharpe_RNN = (Ret_RNN - rf) / std_RNN\n",
        "\n",
        "# Display results\n",
        "print(\"Sharpe Ratio for Random Forest (RF):\", Sharpe_RNN)"
      ],
      "metadata": {
        "colab": {
          "base_uri": "https://localhost:8080/"
        },
        "id": "A8YU7UB1Jm37",
        "outputId": "c3b2c940-3f97-4761-d1be-46ed30854f61"
      },
      "execution_count": null,
      "outputs": [
        {
          "output_type": "stream",
          "name": "stdout",
          "text": [
            "Sharpe Ratio for Random Forest (RF): ReturnRNN    0.929809\n",
            "dtype: float64\n"
          ]
        }
      ]
    },
    {
      "cell_type": "code",
      "source": [
        "# Specify a risk free rate (in this case, the annualized risk-free rate)\n",
        "rf_18 = 0.0183  # as of 2018"
      ],
      "metadata": {
        "id": "JxzoV3NEJmoP"
      },
      "execution_count": null,
      "outputs": []
    },
    {
      "cell_type": "code",
      "source": [
        "# Converting the rf to monthly rates\n",
        "import numpy as np\n",
        "import pandas as pd\n",
        "Ret_RNN = (1+(dfresult[[\"ReturnRNN\"]].mean()))**(252/21)-1 # assuming 252 trading days in a year\n",
        "\n",
        "std_RNN = dfresult[[\"ReturnRNN\"]].std()* sqrt(12)  #Annual std\n",
        "\n",
        "# Calculate Sharpe ratio for each model using the monthly risk-free rate\n",
        "Sharpe_RNN = (Ret_RNN - rf_18) / std_RNN\n",
        "\n",
        "# Display results\n",
        "print(\"Sharpe Ratio for Random Forest (RF):\", Sharpe_RNN)"
      ],
      "metadata": {
        "colab": {
          "base_uri": "https://localhost:8080/"
        },
        "id": "0PTzIV9r8YP1",
        "outputId": "5766c1fb-a1b4-4c51-c1b9-3d36dcc16e09"
      },
      "execution_count": null,
      "outputs": [
        {
          "output_type": "stream",
          "name": "stdout",
          "text": [
            "Sharpe Ratio for Random Forest (RF): ReturnRNN    1.176353\n",
            "dtype: float64\n"
          ]
        }
      ]
    },
    {
      "cell_type": "code",
      "source": [
        "# Specify a risk free rate (in this case, the annualized risk-free rate)\n",
        "rf_19 = 0.0215  # as of 2019"
      ],
      "metadata": {
        "id": "57ZkVatF8_bC"
      },
      "execution_count": null,
      "outputs": []
    },
    {
      "cell_type": "code",
      "source": [
        "# Converting the rf to monthly rates\n",
        "import numpy as np\n",
        "import pandas as pd\n",
        "Ret_RNN = (1+(dfresult[[\"ReturnRNN\"]].mean()))**(252/21)-1 # assuming 252 trading days in a year\n",
        "\n",
        "std_RNN = dfresult[[\"ReturnRNN\"]].std()* sqrt(12)  #Annual std\n",
        "\n",
        "# Calculate Sharpe ratio for each model using the monthly risk-free rate\n",
        "Sharpe_RNN = (Ret_RNN - rf_19) / std_RNN\n",
        "\n",
        "# Display results\n",
        "print(\"Sharpe Ratio for Random Forest (RF):\", Sharpe_RNN)"
      ],
      "metadata": {
        "colab": {
          "base_uri": "https://localhost:8080/"
        },
        "id": "ImEz8kik9U5Y",
        "outputId": "2366a6be-5877-4899-e346-9fed41842e90"
      },
      "execution_count": null,
      "outputs": [
        {
          "output_type": "stream",
          "name": "stdout",
          "text": [
            "Sharpe Ratio for Random Forest (RF): ReturnRNN    1.146804\n",
            "dtype: float64\n"
          ]
        }
      ]
    },
    {
      "cell_type": "code",
      "source": [
        "# Specify a risk free rate (in this case, the annualized risk-free rate)\n",
        "rf_20 = 0.0045  # as of 2020"
      ],
      "metadata": {
        "id": "EidgbQgF9iOR"
      },
      "execution_count": null,
      "outputs": []
    },
    {
      "cell_type": "code",
      "source": [
        "# Converting the rf to monthly rates\n",
        "import numpy as np\n",
        "import pandas as pd\n",
        "Ret_RNN = (1+(dfresult[[\"ReturnRNN\"]].mean()))**(252/21)-1 # assuming 252 trading days in a year\n",
        "\n",
        "std_RNN = dfresult[[\"ReturnRNN\"]].std()* sqrt(12)  #Annual std\n",
        "\n",
        "# Calculate Sharpe ratio for each model using the monthly risk-free rate\n",
        "Sharpe_RNN = (Ret_RNN - rf_20) / std_RNN\n",
        "\n",
        "# Display results\n",
        "print(\"Sharpe Ratio for Random Forest (RF):\", Sharpe_RNN)"
      ],
      "metadata": {
        "colab": {
          "base_uri": "https://localhost:8080/"
        },
        "id": "RlQbv_7z9s-R",
        "outputId": "bedb11e9-59a9-4363-96ba-b0d8577c8214"
      },
      "execution_count": null,
      "outputs": [
        {
          "output_type": "stream",
          "name": "stdout",
          "text": [
            "Sharpe Ratio for Random Forest (RF): ReturnRNN    1.30378\n",
            "dtype: float64\n"
          ]
        }
      ]
    },
    {
      "cell_type": "code",
      "source": [
        "# Specify a risk free rate (in this case, the annualized risk-free rate)\n",
        "rf_21 = 0.0004  # as of 2021"
      ],
      "metadata": {
        "id": "PzAZJ-oE-oaC"
      },
      "execution_count": null,
      "outputs": []
    },
    {
      "cell_type": "code",
      "source": [
        "# Converting the rf to monthly rates\n",
        "import numpy as np\n",
        "import pandas as pd\n",
        "Ret_RNN = (1+(dfresult[[\"ReturnRNN\"]].mean()))**(252/21)-1 # assuming 252 trading days in a year\n",
        "\n",
        "std_RNN = dfresult[[\"ReturnRNN\"]].std()* sqrt(12)  #Annual std\n",
        "\n",
        "# Calculate Sharpe ratio for each model using the monthly risk-free rate\n",
        "Sharpe_RNN = (Ret_RNN - rf_21) / std_RNN\n",
        "\n",
        "# Display results\n",
        "print(\"Sharpe Ratio for Random Forest (RF):\", Sharpe_RNN)"
      ],
      "metadata": {
        "colab": {
          "base_uri": "https://localhost:8080/"
        },
        "id": "Cc6WiuEq_xlV",
        "outputId": "761d10eb-6cf2-44bc-95f5-4fe8f323063a"
      },
      "execution_count": null,
      "outputs": [
        {
          "output_type": "stream",
          "name": "stdout",
          "text": [
            "Sharpe Ratio for Random Forest (RF): ReturnRNN    1.341639\n",
            "dtype: float64\n"
          ]
        }
      ]
    },
    {
      "cell_type": "code",
      "source": [
        "# Specify a risk free rate (in this case, the annualized risk-free rate)\n",
        "rf_22 = 0.0143  # as of 2022"
      ],
      "metadata": {
        "id": "pfu5qZnJABKn"
      },
      "execution_count": null,
      "outputs": []
    },
    {
      "cell_type": "code",
      "source": [
        "# Converting the rf to monthly rates\n",
        "import numpy as np\n",
        "import pandas as pd\n",
        "Ret_RNN = (1+(dfresult[[\"ReturnRNN\"]].mean()))**(252/21)-1 # assuming 252 trading days in a year\n",
        "\n",
        "std_RNN = dfresult[[\"ReturnRNN\"]].std()* sqrt(12)  #Annual std\n",
        "\n",
        "# Calculate Sharpe ratio for each model using the monthly risk-free rate\n",
        "Sharpe_RNN = (Ret_RNN - rf_22) / std_RNN\n",
        "\n",
        "# Display results\n",
        "print(\"Sharpe Ratio for Random Forest (RF):\", Sharpe_RNN)"
      ],
      "metadata": {
        "colab": {
          "base_uri": "https://localhost:8080/"
        },
        "id": "LDJEqoYWAZG7",
        "outputId": "c004ac87-7832-4bc6-d3ca-50e7050243ee"
      },
      "execution_count": null,
      "outputs": [
        {
          "output_type": "stream",
          "name": "stdout",
          "text": [
            "Sharpe Ratio for Random Forest (RF): ReturnRNN    1.213288\n",
            "dtype: float64\n"
          ]
        }
      ]
    },
    {
      "cell_type": "code",
      "source": [
        "# Specify a risk free rate (in this case, the annualized risk-free rate)\n",
        "rf_23 = 0.0493  # as of 2023"
      ],
      "metadata": {
        "id": "2h9P5I1CA4hj"
      },
      "execution_count": null,
      "outputs": []
    },
    {
      "cell_type": "code",
      "source": [
        "# Converting the rf to monthly rates\n",
        "import numpy as np\n",
        "import pandas as pd\n",
        "Ret_RNN = (1+(dfresult[[\"ReturnRNN\"]].mean()))**(252/21)-1 # assuming 252 trading days in a year\n",
        "\n",
        "std_RNN = dfresult[[\"ReturnRNN\"]].std()* sqrt(12)  #Annual std\n",
        "\n",
        "# Calculate Sharpe ratio for each model using the monthly risk-free rate\n",
        "Sharpe_RNN = (Ret_RNN - rf_23) / std_RNN\n",
        "\n",
        "# Display results\n",
        "print(\"Sharpe Ratio for Random Forest (RF):\", Sharpe_RNN)"
      ],
      "metadata": {
        "colab": {
          "base_uri": "https://localhost:8080/"
        },
        "id": "Uyn7KmfcA-U5",
        "outputId": "42b28c91-6198-450b-a1ec-f2b66913d147"
      },
      "execution_count": null,
      "outputs": [
        {
          "output_type": "stream",
          "name": "stdout",
          "text": [
            "Sharpe Ratio for Random Forest (RF): ReturnRNN    0.890103\n",
            "dtype: float64\n"
          ]
        }
      ]
    }
  ]
}